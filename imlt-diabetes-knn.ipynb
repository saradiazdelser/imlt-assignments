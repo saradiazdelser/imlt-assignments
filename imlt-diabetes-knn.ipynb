{
 "cells": [
  {
   "cell_type": "markdown",
   "id": "3c8f20ac",
   "metadata": {},
   "source": [
    "### Imports"
   ]
  },
  {
   "cell_type": "code",
   "execution_count": 1,
   "id": "fb9109b6",
   "metadata": {},
   "outputs": [
    {
     "data": {
      "text/html": "        <script type=\"text/javascript\">\n        window.PlotlyConfig = {MathJaxConfig: 'local'};\n        if (window.MathJax) {MathJax.Hub.Config({SVG: {font: \"STIX-Web\"}});}\n        if (typeof require !== 'undefined') {\n        require.undef(\"plotly\");\n        requirejs.config({\n            paths: {\n                'plotly': ['https://cdn.plot.ly/plotly-2.9.0.min']\n            }\n        });\n        require(['plotly'], function(Plotly) {\n            window._Plotly = Plotly;\n        });\n        }\n        </script>\n        "
     },
     "metadata": {},
     "output_type": "display_data"
    },
    {
     "data": {
      "text/html": "        <script type=\"text/javascript\">\n        window.PlotlyConfig = {MathJaxConfig: 'local'};\n        if (window.MathJax) {MathJax.Hub.Config({SVG: {font: \"STIX-Web\"}});}\n        if (typeof require !== 'undefined') {\n        require.undef(\"plotly\");\n        requirejs.config({\n            paths: {\n                'plotly': ['https://cdn.plot.ly/plotly-2.9.0.min']\n            }\n        });\n        require(['plotly'], function(Plotly) {\n            window._Plotly = Plotly;\n        });\n        }\n        </script>\n        "
     },
     "metadata": {},
     "output_type": "display_data"
    }
   ],
   "source": [
    "import pandas as pd\n",
    "import numpy as np\n",
    "import os\n",
    "import seaborn as ssb\n",
    "import matplotlib.pyplot as plt\n",
    "import cufflinks as cf\n",
    "from IPython.display import display,HTML\n",
    "\n",
    "# Int cufflinks\n",
    "# making all charts public and setting a global theme\n",
    "cf.set_config_file(theme='solar',offline=True)\n",
    "\n",
    "# Ignore warnings\n",
    "import warnings\n",
    "warnings.filterwarnings(\"ignore\")\n",
    "\n",
    "# Set matplotlib in Darkmode\n",
    "plt.style.use('dark_background')"
   ]
  },
  {
   "cell_type": "markdown",
   "id": "cc96dae9",
   "metadata": {},
   "source": [
    "### 01. Exploring the Dataset"
   ]
  },
  {
   "cell_type": "code",
   "execution_count": 2,
   "id": "b844610d",
   "metadata": {},
   "outputs": [],
   "source": [
    "# Loading data using pandas\n",
    "path = './diabetes.csv'"
   ]
  },
  {
   "cell_type": "code",
   "execution_count": 3,
   "id": "04c920dd",
   "metadata": {},
   "outputs": [],
   "source": [
    "def load_dataset(path:str) -> pd:\n",
    "    return pd.read_csv(path)"
   ]
  },
  {
   "cell_type": "code",
   "execution_count": 4,
   "id": "13df863f",
   "metadata": {},
   "outputs": [],
   "source": [
    "dataset = load_dataset(path)"
   ]
  },
  {
   "cell_type": "code",
   "execution_count": 5,
   "id": "9e0427a1",
   "metadata": {},
   "outputs": [
    {
     "name": "stdout",
     "output_type": "stream",
     "text": [
      "<class 'pandas.core.frame.DataFrame'>\n",
      "RangeIndex: 768 entries, 0 to 767\n",
      "Data columns (total 9 columns):\n",
      " #   Column                    Non-Null Count  Dtype  \n",
      "---  ------                    --------------  -----  \n",
      " 0   Pregnancies               768 non-null    int64  \n",
      " 1   Glucose                   768 non-null    int64  \n",
      " 2   BloodPressure             768 non-null    int64  \n",
      " 3   SkinThickness             768 non-null    int64  \n",
      " 4   Insulin                   768 non-null    int64  \n",
      " 5   BMI                       768 non-null    float64\n",
      " 6   DiabetesPedigreeFunction  768 non-null    float64\n",
      " 7   Age                       768 non-null    int64  \n",
      " 8   Outcome                   768 non-null    int64  \n",
      "dtypes: float64(2), int64(7)\n",
      "memory usage: 54.1 KB\n"
     ]
    }
   ],
   "source": [
    "# Check the number of rows and columns in the dataset \n",
    "# dataset.shape\n",
    "dataset.info()"
   ]
  },
  {
   "cell_type": "code",
   "execution_count": 6,
   "id": "dafed152",
   "metadata": {},
   "outputs": [
    {
     "data": {
      "text/plain": "Pregnancies                 False\nGlucose                     False\nBloodPressure               False\nSkinThickness               False\nInsulin                     False\nBMI                         False\nDiabetesPedigreeFunction    False\nAge                         False\nOutcome                     False\ndtype: bool"
     },
     "execution_count": 6,
     "metadata": {},
     "output_type": "execute_result"
    }
   ],
   "source": [
    "# Shows if there are any entries that are NA or NAN\n",
    "dataset.isna().any()"
   ]
  },
  {
   "cell_type": "code",
   "execution_count": 7,
   "id": "34cd4b19",
   "metadata": {},
   "outputs": [
    {
     "data": {
      "text/plain": "   Pregnancies  Glucose  BloodPressure  SkinThickness  Insulin   BMI  \\\n0            6      148             72             35        0  33.6   \n1            1       85             66             29        0  26.6   \n2            8      183             64              0        0  23.3   \n3            1       89             66             23       94  28.1   \n4            0      137             40             35      168  43.1   \n\n   DiabetesPedigreeFunction  Age  Outcome  \n0                     0.627   50        1  \n1                     0.351   31        0  \n2                     0.672   32        1  \n3                     0.167   21        0  \n4                     2.288   33        1  ",
      "text/html": "<div>\n<style scoped>\n    .dataframe tbody tr th:only-of-type {\n        vertical-align: middle;\n    }\n\n    .dataframe tbody tr th {\n        vertical-align: top;\n    }\n\n    .dataframe thead th {\n        text-align: right;\n    }\n</style>\n<table border=\"1\" class=\"dataframe\">\n  <thead>\n    <tr style=\"text-align: right;\">\n      <th></th>\n      <th>Pregnancies</th>\n      <th>Glucose</th>\n      <th>BloodPressure</th>\n      <th>SkinThickness</th>\n      <th>Insulin</th>\n      <th>BMI</th>\n      <th>DiabetesPedigreeFunction</th>\n      <th>Age</th>\n      <th>Outcome</th>\n    </tr>\n  </thead>\n  <tbody>\n    <tr>\n      <th>0</th>\n      <td>6</td>\n      <td>148</td>\n      <td>72</td>\n      <td>35</td>\n      <td>0</td>\n      <td>33.6</td>\n      <td>0.627</td>\n      <td>50</td>\n      <td>1</td>\n    </tr>\n    <tr>\n      <th>1</th>\n      <td>1</td>\n      <td>85</td>\n      <td>66</td>\n      <td>29</td>\n      <td>0</td>\n      <td>26.6</td>\n      <td>0.351</td>\n      <td>31</td>\n      <td>0</td>\n    </tr>\n    <tr>\n      <th>2</th>\n      <td>8</td>\n      <td>183</td>\n      <td>64</td>\n      <td>0</td>\n      <td>0</td>\n      <td>23.3</td>\n      <td>0.672</td>\n      <td>32</td>\n      <td>1</td>\n    </tr>\n    <tr>\n      <th>3</th>\n      <td>1</td>\n      <td>89</td>\n      <td>66</td>\n      <td>23</td>\n      <td>94</td>\n      <td>28.1</td>\n      <td>0.167</td>\n      <td>21</td>\n      <td>0</td>\n    </tr>\n    <tr>\n      <th>4</th>\n      <td>0</td>\n      <td>137</td>\n      <td>40</td>\n      <td>35</td>\n      <td>168</td>\n      <td>43.1</td>\n      <td>2.288</td>\n      <td>33</td>\n      <td>1</td>\n    </tr>\n  </tbody>\n</table>\n</div>"
     },
     "execution_count": 7,
     "metadata": {},
     "output_type": "execute_result"
    }
   ],
   "source": [
    "dataset.head(5)"
   ]
  },
  {
   "cell_type": "code",
   "execution_count": 8,
   "id": "a66106c7",
   "metadata": {
    "scrolled": true
   },
   "outputs": [],
   "source": [
    "#Plotting data\n",
    "def plot_data(dataset):\n",
    "    \"\"\"Plot out all the data from the dataset in different histograms\"\"\"\n",
    "    dataset.hist(bins=50, figsize = (20,15))\n",
    "    plt.show()\n",
    "    return\n"
   ]
  },
  {
   "cell_type": "code",
   "execution_count": 9,
   "id": "36f335b0",
   "metadata": {},
   "outputs": [
    {
     "data": {
      "text/plain": "<Figure size 1440x1080 with 9 Axes>",
      "image/png": "[encoded data removed]"
     },
     "metadata": {
      "needs_background": "light"
     },
     "output_type": "display_data"
    }
   ],
   "source": [
    "plot_data(dataset)"
   ]
  },
  {
   "cell_type": "markdown",
   "id": "d243d88d",
   "metadata": {},
   "source": [
    "### 02. Correlation Matrix"
   ]
  },
  {
   "cell_type": "code",
   "execution_count": 10,
   "id": "72a8d2fd",
   "metadata": {},
   "outputs": [
    {
     "data": {
      "text/plain": "<Figure size 576x504 with 2 Axes>",
      "image/png": "[encoded data removed]"
     },
     "metadata": {
      "needs_background": "light"
     },
     "output_type": "display_data"
    }
   ],
   "source": [
    "def correlation_matrix(dataframe):\n",
    "    \"\"\"Plot out correlation data from a pandas dataframe\"\"\"\n",
    "\n",
    "    # Correlation data \n",
    "    corr = dataframe.corr()\n",
    "    # Correlation matrix with matplotlib\n",
    "    fig = plt.figure(figsize =(8, 7))\n",
    "\n",
    "    # Colours the rectangles by correlation value\n",
    "    #111 stands for 1x1 grid, first subplot\n",
    "    ax = fig.add_subplot(111)\n",
    "    cax = ax.matshow(corr, vmin=-1, vmax=1)\n",
    "    fig.colorbar(cax)\n",
    "\n",
    "    # Plots x-ticks labels\n",
    "    plt.xticks(range(len(corr.columns)), corr.columns , fontsize =10)\n",
    "    plt.xticks(rotation=45)\n",
    "    \n",
    "    # Plots y-ticks labels\n",
    "    plt.yticks(range(len(corr.columns)), corr.columns , fontsize = 20)\n",
    "    plt.title('Correlation Matrix', fontsize = 28)\n",
    "\n",
    "    # Plots the correlation matrix\n",
    "    plt.show()\n",
    "    \n",
    "    return\n",
    "\n",
    "correlation_matrix(dataset)"
   ]
  },
  {
   "cell_type": "code",
   "execution_count": 11,
   "id": "42ba4c08",
   "metadata": {},
   "outputs": [],
   "source": [
    "# Correlation data \n",
    "corr = dataset.corr()\n",
    "\n",
    "# Correlation matrix with seaborn (correlation val are -1 to 1, thats why vmin vmax)\n",
    "# ssb.heatmap(corr, vmin = -1, vmax = +1, annot = True, cmap = 'coolwarm')"
   ]
  },
  {
   "cell_type": "markdown",
   "id": "7bcd3a17",
   "metadata": {},
   "source": [
    "No meaningful correlation found. All features are informative."
   ]
  },
  {
   "cell_type": "markdown",
   "id": "35974f82",
   "metadata": {},
   "source": [
    "### 03. Running and Parameters"
   ]
  },
  {
   "cell_type": "markdown",
   "id": "45fa9a4f",
   "metadata": {},
   "source": [
    "##### Run KNN Algorithm"
   ]
  },
  {
   "cell_type": "code",
   "execution_count": 12,
   "id": "a63b039d",
   "metadata": {},
   "outputs": [],
   "source": [
    "from sklearn.model_selection import train_test_split\n",
    "from sklearn.neighbors import KNeighborsClassifier\n",
    "\n",
    "\n",
    "'''Run KNN algorithm in pandas dataframe'''\n",
    "\n",
    "# Create features and labels\n",
    "features = dataset.drop(['Outcome'], axis=1)\n",
    "labels = dataset['Outcome']\n",
    "\n",
    "# Create training (75%) and test (25%) sets \n",
    "features_train, features_test , labels_train , labels_test = train_test_split(features, labels, test_size =0.25)\n",
    "\n",
    "#Set classifier (k=5)\n",
    "classifier = KNeighborsClassifier(n_neighbors=5)\n",
    "\n",
    "# Fit data for training into classifier\n",
    "classifier.fit(features_train , labels_train)\n",
    "\n",
    "# Predicting with classifier\n",
    "pred = classifier.predict(features_test)"
   ]
  },
  {
   "cell_type": "markdown",
   "id": "29de0782",
   "metadata": {},
   "source": [
    "##### Check Parameters"
   ]
  },
  {
   "cell_type": "code",
   "execution_count": 13,
   "id": "81461d41",
   "metadata": {},
   "outputs": [],
   "source": [
    "# Check AOC ARC curve\n",
    "from sklearn.metrics import roc_auc_score, roc_curve\n",
    "\n",
    "def aoc_arc_curve(pred, labels_test):\n",
    "    \"\"\"Plots the AOC ARC curve and score\"\"\"\n",
    "    auc = roc_auc_score(labels_test, pred)\n",
    "    print('AUROC score: {:.2f}'.format(auc))\n",
    "\n",
    "    false_positive_rate, true_positive_rate, thresolds = roc_curve(labels_test, pred)\n",
    "\n",
    "    plt.figure(figsize=(5, 4), dpi=100)\n",
    "    plt.axis('scaled')\n",
    "    plt.xlim([0, 1])\n",
    "    plt.ylim([0, 1])\n",
    "    plt.title(\"AUC & ROC Curve\")\n",
    "    plt.plot(false_positive_rate, true_positive_rate, 'y')\n",
    "    \n",
    "    plt.plot([0,1],[0,1], linestyle='dotted')\n",
    "\n",
    "    plt.fill_between(false_positive_rate, true_positive_rate, facecolor='lightyellow', alpha=0.7)\n",
    "    plt.text(0.95, 0.05, 'AUC = {:.2f}'.format(auc), ha='right', fontsize=12, weight='bold')\n",
    "    plt.xlabel(\"False Positive Rate\")\n",
    "    plt.ylabel(\"True Positive Rate\")\n",
    "    plt.show()\n",
    "    \n",
    "    return auc"
   ]
  },
  {
   "cell_type": "code",
   "execution_count": 14,
   "id": "18fbfe02",
   "metadata": {},
   "outputs": [],
   "source": [
    "from sklearn.metrics import accuracy_score\n",
    "from sklearn.metrics import precision_score\n",
    "from sklearn.metrics import recall_score\n",
    "from sklearn.metrics import f1_score\n",
    "\n",
    "def parameter_check(pred, labels_test):\n",
    "    \"\"\"Determines accuracy, precision, recall, f1 and aoc arc curve\"\"\"\n",
    "    # Check accuracy\n",
    "    accuracy = accuracy_score(labels_test , pred)\n",
    "\n",
    "    # Check precision\n",
    "    precision = precision_score(labels_test , pred)\n",
    "\n",
    "    # Check recall\n",
    "    recall = recall_score(labels_test , pred)\n",
    "\n",
    "    # Check F1 score\n",
    "    F1 = f1_score( labels_test , pred)\n",
    "\n",
    "    print('Accuracy: {:.2f}'.format(accuracy))\n",
    "    print('Precision: {:.2f}'.format(precision))\n",
    "    print('Recall: {:.2f}'.format(recall))\n",
    "    print('F1 score: {:.2f}'.format(F1))\n",
    "    \n",
    "    auc = aoc_arc_curve(pred, labels_test)\n",
    "    \n",
    "    return { 'accuracy': accuracy, 'precision':precision, 'recall':recall, 'fi':F1, 'auc': auc}\n"
   ]
  },
  {
   "cell_type": "code",
   "execution_count": 15,
   "id": "372d25c1",
   "metadata": {},
   "outputs": [
    {
     "name": "stdout",
     "output_type": "stream",
     "text": [
      "Accuracy: 0.69\n",
      "Precision: 0.54\n",
      "Recall: 0.57\n",
      "F1 score: 0.55\n",
      "AUROC score: 0.66\n"
     ]
    },
    {
     "data": {
      "text/plain": "<Figure size 500x400 with 1 Axes>",
      "image/png": "[encoded data removed]"
     },
     "metadata": {
      "needs_background": "light"
     },
     "output_type": "display_data"
    }
   ],
   "source": [
    "raw_param = parameter_check(pred, labels_test)"
   ]
  },
  {
   "cell_type": "markdown",
   "id": "5c0af5d3",
   "metadata": {},
   "source": [
    "### 04. Scaling"
   ]
  },
  {
   "cell_type": "code",
   "execution_count": 16,
   "id": "edacb259",
   "metadata": {},
   "outputs": [],
   "source": [
    "from sklearn.preprocessing import StandardScaler\n",
    "\n",
    "# Standarization\n",
    "# We need to modify (scale) the testing and the training data, but separately\n",
    "\n",
    "scaler = StandardScaler()\n",
    "features_train_scaled = scaler.fit_transform(features_train)\n",
    "features_test_scaled = scaler.transform(features_test)"
   ]
  },
  {
   "cell_type": "markdown",
   "id": "609c60d3",
   "metadata": {},
   "source": [
    "##### Run KNN Algorithm"
   ]
  },
  {
   "cell_type": "code",
   "execution_count": 17,
   "id": "c732ec34",
   "metadata": {},
   "outputs": [
    {
     "name": "stdout",
     "output_type": "stream",
     "text": [
      "Accuracy: 0.71\n",
      "Precision: 0.57\n",
      "Recall: 0.58\n",
      "F1 score: 0.58\n",
      "AUROC score: 0.68\n"
     ]
    },
    {
     "data": {
      "text/plain": "<Figure size 500x400 with 1 Axes>",
      "image/png": "[encoded data removed]"
     },
     "metadata": {
      "needs_background": "light"
     },
     "output_type": "display_data"
    }
   ],
   "source": [
    "# Fit data for training into classifier\n",
    "classifier.fit(features_train_scaled , labels_train)\n",
    "\n",
    "# Predicting with classifier\n",
    "pred = classifier.predict(features_test_scaled)\n",
    "\n",
    "# Determine parameters\n",
    "scaled_param = parameter_check(pred, labels_test)"
   ]
  },
  {
   "cell_type": "markdown",
   "id": "797bd580",
   "metadata": {},
   "source": [
    "### 05. Imputation"
   ]
  },
  {
   "cell_type": "code",
   "execution_count": 18,
   "id": "cfeb8bcd",
   "metadata": {},
   "outputs": [],
   "source": [
    "from sklearn.impute import SimpleImputer\n",
    "\n",
    "imputer = SimpleImputer(missing_values=np.nan, strategy='mean')\n",
    "\n",
    "imputer = imputer.fit(features_train_scaled)\n",
    "features_train_imputated = imputer.transform(features_train_scaled)\n",
    "\n",
    "imputer = imputer.fit(features_test_scaled)\n",
    "features_test_imputated = imputer.transform(features_test_scaled)"
   ]
  },
  {
   "cell_type": "markdown",
   "id": "4a0bef8d",
   "metadata": {},
   "source": [
    "##### Run KNN Algorithm"
   ]
  },
  {
   "cell_type": "code",
   "execution_count": 19,
   "id": "ac8dc643",
   "metadata": {},
   "outputs": [
    {
     "name": "stdout",
     "output_type": "stream",
     "text": [
      "Accuracy: 0.71\n",
      "Precision: 0.57\n",
      "Recall: 0.58\n",
      "F1 score: 0.58\n",
      "AUROC score: 0.68\n"
     ]
    },
    {
     "data": {
      "text/plain": "<Figure size 500x400 with 1 Axes>",
      "image/png": "[encoded data removed]"
     },
     "metadata": {
      "needs_background": "light"
     },
     "output_type": "display_data"
    }
   ],
   "source": [
    "# Fit data for training into classifier\n",
    "classifier.fit(features_train_imputated , labels_train)\n",
    "\n",
    "# Predicting with classifier\n",
    "pred = classifier.predict(features_test_imputated)\n",
    "\n",
    "# Determine parameters\n",
    "imputed_param = parameter_check(pred, labels_test)"
   ]
  },
  {
   "cell_type": "markdown",
   "id": "e4741d72",
   "metadata": {},
   "source": [
    "The SimpleImputer class provides basic strategies for imputing missing values. Missing values can be imputed with a provided constant value (e. g. 0), or using the statistics (mean, median or most frequent) of each column in which the missing values are located. This class also allows for different missing values encodings."
   ]
  },
  {
   "cell_type": "markdown",
   "id": "efd57f2f",
   "metadata": {},
   "source": [
    "### 06. Imablanced Data"
   ]
  },
  {
   "cell_type": "code",
   "execution_count": 20,
   "id": "cfbc5804",
   "metadata": {},
   "outputs": [],
   "source": [
    "# !pip install imblearn"
   ]
  },
  {
   "cell_type": "code",
   "execution_count": 21,
   "id": "53913dad",
   "metadata": {},
   "outputs": [],
   "source": [
    "import imblearn\n",
    "from collections import Counter"
   ]
  },
  {
   "cell_type": "markdown",
   "id": "8f32b9a1",
   "metadata": {},
   "source": [
    "#### Up-sampling  _(with `imblearn`)_\n"
   ]
  },
  {
   "cell_type": "markdown",
   "id": "38b099d5",
   "metadata": {},
   "source": [
    "Next, we'll create a new DataFrame with an up-sampled minority class. Here are the\n",
    "steps:\n",
    "\n",
    "*  First, we'll separate observations from each class into different DataFrames.\n",
    "* Next, we'll resample the minority class with replacement, setting the number of\n",
    "samples to match that of the majority class.\n",
    "* Finally, we'll combine the up-sampled minority class DataFrame with the original\n",
    "majority class DataFrame."
   ]
  },
  {
   "cell_type": "code",
   "execution_count": 22,
   "id": "5d6ffbab",
   "metadata": {},
   "outputs": [],
   "source": [
    "from imblearn.over_sampling import SMOTE\n",
    "\n",
    "# Re-sizing the data \n",
    "features_train_balanced, labels_train_balanced = SMOTE().fit_resample(features_train_imputated, labels_train)\n",
    "features_test_balanced, labels_test_balanced = SMOTE().fit_resample(features_test_imputated, labels_test)"
   ]
  },
  {
   "cell_type": "markdown",
   "id": "140e2b93",
   "metadata": {},
   "source": [
    "##### Run KNN Algorithm"
   ]
  },
  {
   "cell_type": "code",
   "execution_count": 23,
   "id": "b77e7edc",
   "metadata": {},
   "outputs": [
    {
     "name": "stdout",
     "output_type": "stream",
     "text": [
      "Accuracy: 0.73\n",
      "Precision: 0.72\n",
      "Recall: 0.76\n",
      "F1 score: 0.74\n",
      "AUROC score: 0.73\n"
     ]
    },
    {
     "data": {
      "text/plain": "<Figure size 500x400 with 1 Axes>",
      "image/png": "[encoded data removed]"
     },
     "metadata": {
      "needs_background": "light"
     },
     "output_type": "display_data"
    }
   ],
   "source": [
    "# Fit data for training into classifier\n",
    "classifier.fit(features_train_balanced , labels_train_balanced)\n",
    "\n",
    "# Predicting with classifier\n",
    "pred = classifier.predict(features_test_balanced)\n",
    "\n",
    "# Determine parameters\n",
    "upsamp_param = parameter_check(pred, labels_test_balanced)"
   ]
  },
  {
   "cell_type": "markdown",
   "id": "ece70418",
   "metadata": {},
   "source": [
    "#### Down-sampling  _(with `imblearn`)_"
   ]
  },
  {
   "cell_type": "code",
   "execution_count": 24,
   "id": "5d68bf7e",
   "metadata": {},
   "outputs": [],
   "source": [
    "from imblearn.under_sampling import RandomUnderSampler\n",
    "\n",
    "# Re-sizing the data \n",
    "rus = RandomUnderSampler(random_state=0)\n",
    "features_train_balanced, labels_train_balanced = rus.fit_resample(features_train_imputated, labels_train)\n",
    "features_test_balanced, labels_test_balanced = rus.fit_resample(features_test_imputated, labels_test)"
   ]
  },
  {
   "cell_type": "markdown",
   "id": "b5daaa35",
   "metadata": {},
   "source": [
    "##### Run KNN Algorithm"
   ]
  },
  {
   "cell_type": "code",
   "execution_count": 25,
   "id": "f6f8d8f2",
   "metadata": {},
   "outputs": [
    {
     "name": "stdout",
     "output_type": "stream",
     "text": [
      "Accuracy: 0.68\n",
      "Precision: 0.69\n",
      "Recall: 0.65\n",
      "F1 score: 0.67\n",
      "AUROC score: 0.68\n"
     ]
    },
    {
     "data": {
      "text/plain": "<Figure size 500x400 with 1 Axes>",
      "image/png": "[encoded data removed]"
     },
     "metadata": {
      "needs_background": "light"
     },
     "output_type": "display_data"
    }
   ],
   "source": [
    "# Fit data for training into classifier\n",
    "classifier.fit(features_train_balanced , labels_train_balanced)\n",
    "\n",
    "# Predicting with classifier\n",
    "pred = classifier.predict(features_test_balanced)\n",
    "\n",
    "# Determine parameters\n",
    "downsamp_param = parameter_check(pred, labels_test_balanced)"
   ]
  },
  {
   "cell_type": "markdown",
   "id": "508b220a",
   "metadata": {},
   "source": [
    "#### Re-sampling _(with `resample`)_ \n",
    "Common steps in up-sampling and down-sampling:"
   ]
  },
  {
   "cell_type": "code",
   "execution_count": 26,
   "id": "cb5fe873",
   "metadata": {},
   "outputs": [],
   "source": [
    "# Make a deepcopy of the training data and add the outcome column\n",
    "dataset_training = features_train.copy(deep=True)\n",
    "dataset_training['Outcome'] = labels_train\n",
    "\n",
    "# Make a deepcopy of the testing data and add the outcome column\n",
    "dataset_testing = features_test.copy(deep=True)\n",
    "dataset_testing['Outcome'] = labels_test\n",
    "\n",
    "# Separate majority and minority classes for training_data\n",
    "dataset_training_majority = dataset_training[dataset_training.Outcome ==0]\n",
    "dataset_training_minority = dataset_training[dataset_training.Outcome ==1]\n",
    "\n",
    "# Separate majority and minority classes for testing_data \n",
    "dataset_testing_majority = dataset_testing[dataset_testing.Outcome ==0]\n",
    "dataset_testing_minority = dataset_testing[dataset_testing.Outcome ==1]\n",
    "\n",
    "# Scale and impute\n",
    "# TODO"
   ]
  },
  {
   "cell_type": "markdown",
   "id": "a11652b4",
   "metadata": {},
   "source": [
    "#### Up-sampling  _(with `resample`)_"
   ]
  },
  {
   "cell_type": "code",
   "execution_count": 27,
   "id": "d5bb1cc8",
   "metadata": {},
   "outputs": [],
   "source": [
    "from sklearn.utils import resample\n",
    "\n",
    "# Split data into training and testing \n",
    "# Already have: features_train, labels_train, features_test, labels_test"
   ]
  },
  {
   "cell_type": "markdown",
   "id": "8b87ab40",
   "metadata": {},
   "source": [
    "##### Training data"
   ]
  },
  {
   "cell_type": "code",
   "execution_count": 28,
   "id": "5ad4e0e4",
   "metadata": {},
   "outputs": [],
   "source": [
    "# Up-sample minority class for training data\n",
    "dataset_training_minority_upsampled = resample(dataset_training_minority,\n",
    "                                 replace=True, # sample with replacement\n",
    "                                 n_samples=len(dataset_training_minority),\n",
    "                                 random_state=123) # reproducible results\n",
    "\n",
    "dataset_train_upsampled = pd.concat([dataset_training_minority_upsampled,dataset_training_majority])\n",
    "\n",
    "# Split into features and labels \n",
    "features_train_upsampled = dataset_train_upsampled.drop(['Outcome'], axis=1)\n",
    "labels_train_upsampled = dataset_train_upsampled['Outcome']"
   ]
  },
  {
   "cell_type": "markdown",
   "id": "39e1c909",
   "metadata": {},
   "source": [
    "##### Testing data"
   ]
  },
  {
   "cell_type": "code",
   "execution_count": 29,
   "id": "d309df67",
   "metadata": {},
   "outputs": [],
   "source": [
    "# Up-sample minority class for testing data\n",
    "dataset_testing_minority_upsampled = resample(dataset_testing_minority,\n",
    "                                 replace=True, # sample with replacement\n",
    "                                 n_samples=len(dataset_testing_minority),\n",
    "                                 random_state=123) # reproducible results\n",
    "\n",
    "dataset_test_upsampled = pd.concat([dataset_testing_minority_upsampled,dataset_testing_majority])\n",
    "\n",
    "# Split into features and labels \n",
    "features_test_upsampled = dataset_test_upsampled.drop(['Outcome'], axis=1)\n",
    "labels_test_upsampled = dataset_test_upsampled['Outcome']"
   ]
  },
  {
   "cell_type": "code",
   "execution_count": 30,
   "id": "d546daf6",
   "metadata": {},
   "outputs": [],
   "source": [
    "# We have: features_train_upsampled, labels_train_upsampled,features_test_upsampled,labels_test_upsampled"
   ]
  },
  {
   "cell_type": "markdown",
   "id": "f64cfb1c",
   "metadata": {},
   "source": [
    "##### Run KNN Algorithm"
   ]
  },
  {
   "cell_type": "code",
   "execution_count": 31,
   "id": "d7ca20cc",
   "metadata": {},
   "outputs": [
    {
     "name": "stdout",
     "output_type": "stream",
     "text": [
      "Accuracy: 0.69\n",
      "Precision: 0.55\n",
      "Recall: 0.51\n",
      "F1 score: 0.53\n",
      "AUROC score: 0.65\n"
     ]
    },
    {
     "data": {
      "text/plain": "<Figure size 500x400 with 1 Axes>",
      "image/png": "[encoded data removed]"
     },
     "metadata": {
      "needs_background": "light"
     },
     "output_type": "display_data"
    }
   ],
   "source": [
    "# Fit data for training into classifier\n",
    "classifier.fit(features_train_upsampled , labels_train_upsampled)\n",
    "\n",
    "# Predicting with classifier\n",
    "pred = classifier.predict(features_test_upsampled)\n",
    "\n",
    "# Determine parameters\n",
    "upsamp_re = parameter_check(pred , labels_test_upsampled)"
   ]
  },
  {
   "cell_type": "markdown",
   "id": "4b5b0589",
   "metadata": {},
   "source": [
    "Best parameter check is consistently with `resample`, usually up-sampling."
   ]
  },
  {
   "cell_type": "markdown",
   "id": "abd43cda",
   "metadata": {},
   "source": [
    "#### Down-sampling  _(with `resample`)_"
   ]
  },
  {
   "cell_type": "markdown",
   "id": "7da5036e",
   "metadata": {},
   "source": [
    "##### Training data"
   ]
  },
  {
   "cell_type": "code",
   "execution_count": 32,
   "id": "b006698f",
   "metadata": {},
   "outputs": [],
   "source": [
    "# Down-sample majority class for training data\n",
    "dataset_training_majority_downsampled = resample(dataset_training_majority,\n",
    "                                 replace=True, # sample with replacement\n",
    "                                 n_samples=len(dataset_training_majority),\n",
    "                                 random_state=123) # reproducible results\n",
    "\n",
    "dataset_train_downsampled = pd.concat([dataset_training_majority_downsampled,dataset_training_minority])\n",
    "\n",
    "# Split into features and labels \n",
    "features_train_downsampled = dataset_train_downsampled.drop(['Outcome'], axis=1)\n",
    "labels_train_downsampled = dataset_train_downsampled['Outcome']"
   ]
  },
  {
   "cell_type": "markdown",
   "id": "dac699a5",
   "metadata": {},
   "source": [
    "##### Testing data"
   ]
  },
  {
   "cell_type": "code",
   "execution_count": 33,
   "id": "19cceda9",
   "metadata": {},
   "outputs": [],
   "source": [
    "# Down-sample majority class for training data\n",
    "dataset_testing_majority_downsampled = resample(dataset_testing_majority,\n",
    "                                 replace=True, # sample with replacement\n",
    "                                 n_samples=len(dataset_testing_majority),\n",
    "                                 random_state=123) # reproducible results\n",
    "\n",
    "dataset_test_downsampled = pd.concat([dataset_testing_majority_downsampled,dataset_testing_minority])\n",
    "\n",
    "# Split into features and labels \n",
    "features_test_downsampled = dataset_test_downsampled.drop(['Outcome'], axis=1)\n",
    "labels_test_downsampled = dataset_test_downsampled['Outcome']"
   ]
  },
  {
   "cell_type": "code",
   "execution_count": 34,
   "id": "c0c90940",
   "metadata": {},
   "outputs": [],
   "source": [
    "# We have: features_train_downsampled, labels_train_downsampled, features_test_downsampled, labels_test_downsampled"
   ]
  },
  {
   "cell_type": "markdown",
   "id": "467ac5cb",
   "metadata": {},
   "source": [
    "##### Run KNN Algorithm"
   ]
  },
  {
   "cell_type": "code",
   "execution_count": 35,
   "id": "2ffbeb9d",
   "metadata": {},
   "outputs": [
    {
     "name": "stdout",
     "output_type": "stream",
     "text": [
      "Accuracy: 0.65\n",
      "Precision: 0.49\n",
      "Recall: 0.57\n",
      "F1 score: 0.52\n",
      "AUROC score: 0.63\n"
     ]
    },
    {
     "data": {
      "text/plain": "<Figure size 500x400 with 1 Axes>",
      "image/png": "[encoded data removed]"
     },
     "metadata": {
      "needs_background": "light"
     },
     "output_type": "display_data"
    }
   ],
   "source": [
    "# Fit data for training into classifier\n",
    "classifier.fit(features_train_downsampled , labels_train_downsampled)\n",
    "\n",
    "# Predicting with classifier\n",
    "pred = classifier.predict(features_test_downsampled)\n",
    "\n",
    "# Determine parameters\n",
    "downsamp_re = parameter_check(pred, labels_test_downsampled)"
   ]
  },
  {
   "cell_type": "markdown",
   "id": "8b572bad",
   "metadata": {},
   "source": [
    "### Parameter Comparison"
   ]
  },
  {
   "cell_type": "code",
   "execution_count": 36,
   "id": "75f65235",
   "metadata": {},
   "outputs": [],
   "source": [
    "# Plot out different parameters\n",
    "compare = [raw_param, scaled_param, imputed_param, downsamp_param, upsamp_param, upsamp_re, downsamp_re]\n",
    "headers_comparison = ['Raw', 'Scaled', 'Imputed', 'Down-sampling (Imblearn)', 'Up-sampling (Imblearn)', 'Up-sampling (Resample)', 'Down-sampling (Resample)']"
   ]
  },
  {
   "cell_type": "code",
   "execution_count": 37,
   "id": "e22e742a",
   "metadata": {},
   "outputs": [],
   "source": [
    "compare_df = pd.DataFrame(compare)\n",
    "compare_df[\"results\"]=headers_comparison\n",
    "compare_df = compare_df.set_index('results', drop=True).rename_axis(None)"
   ]
  },
  {
   "cell_type": "code",
   "execution_count": 38,
   "id": "8b74d59e",
   "metadata": {},
   "outputs": [
    {
     "data": {
      "application/vnd.plotly.v1+json": {
       "data": [
        {
         "marker": {
          "color": "rgba(255, 153, 51, 0.6)",
          "line": {
           "color": "rgba(255, 153, 51, 1.0)",
           "width": 1
          }
         },
         "name": "accuracy",
         "orientation": "v",
         "text": "",
         "x": [
          "Raw",
          "Scaled",
          "Imputed",
          "Down-sampling (Imblearn)",
          "Up-sampling (Imblearn)",
          "Up-sampling (Resample)",
          "Down-sampling (Resample)"
         ],
         "y": [
          0.6875,
          0.7083333333333334,
          0.7083333333333334,
          0.676923076923077,
          0.7322834645669292,
          0.6927083333333334,
          0.6510416666666666
         ],
         "type": "bar"
        },
        {
         "marker": {
          "color": "rgba(55, 128, 191, 0.6)",
          "line": {
           "color": "rgba(55, 128, 191, 1.0)",
           "width": 1
          }
         },
         "name": "precision",
         "orientation": "v",
         "text": "",
         "x": [
          "Raw",
          "Scaled",
          "Imputed",
          "Down-sampling (Imblearn)",
          "Up-sampling (Imblearn)",
          "Up-sampling (Resample)",
          "Down-sampling (Resample)"
         ],
         "y": [
          0.5362318840579711,
          0.5671641791044776,
          0.5671641791044776,
          0.6885245901639344,
          0.7185185185185186,
          0.55,
          0.4868421052631579
         ],
         "type": "bar"
        },
        {
         "marker": {
          "color": "rgba(50, 171, 96, 0.6)",
          "line": {
           "color": "rgba(50, 171, 96, 1.0)",
           "width": 1
          }
         },
         "name": "recall",
         "orientation": "v",
         "text": "",
         "x": [
          "Raw",
          "Scaled",
          "Imputed",
          "Down-sampling (Imblearn)",
          "Up-sampling (Imblearn)",
          "Up-sampling (Resample)",
          "Down-sampling (Resample)"
         ],
         "y": [
          0.5692307692307692,
          0.5846153846153846,
          0.5846153846153846,
          0.6461538461538462,
          0.7637795275590551,
          0.5076923076923077,
          0.5692307692307692
         ],
         "type": "bar"
        },
        {
         "marker": {
          "color": "rgba(128, 0, 128, 0.6)",
          "line": {
           "color": "rgba(128, 0, 128, 1.0)",
           "width": 1
          }
         },
         "name": "fi",
         "orientation": "v",
         "text": "",
         "x": [
          "Raw",
          "Scaled",
          "Imputed",
          "Down-sampling (Imblearn)",
          "Up-sampling (Imblearn)",
          "Up-sampling (Resample)",
          "Down-sampling (Resample)"
         ],
         "y": [
          0.5522388059701493,
          0.5757575757575757,
          0.5757575757575757,
          0.6666666666666666,
          0.7404580152671756,
          0.528,
          0.524822695035461
         ],
         "type": "bar"
        },
        {
         "marker": {
          "color": "rgba(219, 64, 82, 0.6)",
          "line": {
           "color": "rgba(219, 64, 82, 1.0)",
           "width": 1
          }
         },
         "name": "auc",
         "orientation": "v",
         "text": "",
         "x": [
          "Raw",
          "Scaled",
          "Imputed",
          "Down-sampling (Imblearn)",
          "Up-sampling (Imblearn)",
          "Up-sampling (Resample)",
          "Down-sampling (Resample)"
         ],
         "y": [
          0.6586311326468807,
          0.6781344639612357,
          0.6781344639612357,
          0.6769230769230768,
          0.732283464566929,
          0.6475469412477286,
          0.6310720775287704
         ],
         "type": "bar"
        }
       ],
       "layout": {
        "legend": {
         "bgcolor": "#151516",
         "font": {
          "color": "#D9D9D9"
         }
        },
        "paper_bgcolor": "#151516",
        "plot_bgcolor": "#151516",
        "template": {
         "data": {
          "barpolar": [
           {
            "marker": {
             "line": {
              "color": "#E5ECF6",
              "width": 0.5
             },
             "pattern": {
              "fillmode": "overlay",
              "size": 10,
              "solidity": 0.2
             }
            },
            "type": "barpolar"
           }
          ],
          "bar": [
           {
            "error_x": {
             "color": "#2a3f5f"
            },
            "error_y": {
             "color": "#2a3f5f"
            },
            "marker": {
             "line": {
              "color": "#E5ECF6",
              "width": 0.5
             },
             "pattern": {
              "fillmode": "overlay",
              "size": 10,
              "solidity": 0.2
             }
            },
            "type": "bar"
           }
          ],
          "carpet": [
           {
            "aaxis": {
             "endlinecolor": "#2a3f5f",
             "gridcolor": "white",
             "linecolor": "white",
             "minorgridcolor": "white",
             "startlinecolor": "#2a3f5f"
            },
            "baxis": {
             "endlinecolor": "#2a3f5f",
             "gridcolor": "white",
             "linecolor": "white",
             "minorgridcolor": "white",
             "startlinecolor": "#2a3f5f"
            },
            "type": "carpet"
           }
          ],
          "choropleth": [
           {
            "colorbar": {
             "outlinewidth": 0,
             "ticks": ""
            },
            "type": "choropleth"
           }
          ],
          "contourcarpet": [
           {
            "colorbar": {
             "outlinewidth": 0,
             "ticks": ""
            },
            "type": "contourcarpet"
           }
          ],
          "contour": [
           {
            "colorbar": {
             "outlinewidth": 0,
             "ticks": ""
            },
            "colorscale": [
             [
              0.0,
              "#0d0887"
             ],
             [
              0.1111111111111111,
              "#46039f"
             ],
             [
              0.2222222222222222,
              "#7201a8"
             ],
             [
              0.3333333333333333,
              "#9c179e"
             ],
             [
              0.4444444444444444,
              "#bd3786"
             ],
             [
              0.5555555555555556,
              "#d8576b"
             ],
             [
              0.6666666666666666,
              "#ed7953"
             ],
             [
              0.7777777777777778,
              "#fb9f3a"
             ],
             [
              0.8888888888888888,
              "#fdca26"
             ],
             [
              1.0,
              "#f0f921"
             ]
            ],
            "type": "contour"
           }
          ],
          "heatmapgl": [
           {
            "colorbar": {
             "outlinewidth": 0,
             "ticks": ""
            },
            "colorscale": [
             [
              0.0,
              "#0d0887"
             ],
             [
              0.1111111111111111,
              "#46039f"
             ],
             [
              0.2222222222222222,
              "#7201a8"
             ],
             [
              0.3333333333333333,
              "#9c179e"
             ],
             [
              0.4444444444444444,
              "#bd3786"
             ],
             [
              0.5555555555555556,
              "#d8576b"
             ],
             [
              0.6666666666666666,
              "#ed7953"
             ],
             [
              0.7777777777777778,
              "#fb9f3a"
             ],
             [
              0.8888888888888888,
              "#fdca26"
             ],
             [
              1.0,
              "#f0f921"
             ]
            ],
            "type": "heatmapgl"
           }
          ],
          "heatmap": [
           {
            "colorbar": {
             "outlinewidth": 0,
             "ticks": ""
            },
            "colorscale": [
             [
              0.0,
              "#0d0887"
             ],
             [
              0.1111111111111111,
              "#46039f"
             ],
             [
              0.2222222222222222,
              "#7201a8"
             ],
             [
              0.3333333333333333,
              "#9c179e"
             ],
             [
              0.4444444444444444,
              "#bd3786"
             ],
             [
              0.5555555555555556,
              "#d8576b"
             ],
             [
              0.6666666666666666,
              "#ed7953"
             ],
             [
              0.7777777777777778,
              "#fb9f3a"
             ],
             [
              0.8888888888888888,
              "#fdca26"
             ],
             [
              1.0,
              "#f0f921"
             ]
            ],
            "type": "heatmap"
           }
          ],
          "histogram2dcontour": [
           {
            "colorbar": {
             "outlinewidth": 0,
             "ticks": ""
            },
            "colorscale": [
             [
              0.0,
              "#0d0887"
             ],
             [
              0.1111111111111111,
              "#46039f"
             ],
             [
              0.2222222222222222,
              "#7201a8"
             ],
             [
              0.3333333333333333,
              "#9c179e"
             ],
             [
              0.4444444444444444,
              "#bd3786"
             ],
             [
              0.5555555555555556,
              "#d8576b"
             ],
             [
              0.6666666666666666,
              "#ed7953"
             ],
             [
              0.7777777777777778,
              "#fb9f3a"
             ],
             [
              0.8888888888888888,
              "#fdca26"
             ],
             [
              1.0,
              "#f0f921"
             ]
            ],
            "type": "histogram2dcontour"
           }
          ],
          "histogram2d": [
           {
            "colorbar": {
             "outlinewidth": 0,
             "ticks": ""
            },
            "colorscale": [
             [
              0.0,
              "#0d0887"
             ],
             [
              0.1111111111111111,
              "#46039f"
             ],
             [
              0.2222222222222222,
              "#7201a8"
             ],
             [
              0.3333333333333333,
              "#9c179e"
             ],
             [
              0.4444444444444444,
              "#bd3786"
             ],
             [
              0.5555555555555556,
              "#d8576b"
             ],
             [
              0.6666666666666666,
              "#ed7953"
             ],
             [
              0.7777777777777778,
              "#fb9f3a"
             ],
             [
              0.8888888888888888,
              "#fdca26"
             ],
             [
              1.0,
              "#f0f921"
             ]
            ],
            "type": "histogram2d"
           }
          ],
          "histogram": [
           {
            "marker": {
             "pattern": {
              "fillmode": "overlay",
              "size": 10,
              "solidity": 0.2
             }
            },
            "type": "histogram"
           }
          ],
          "mesh3d": [
           {
            "colorbar": {
             "outlinewidth": 0,
             "ticks": ""
            },
            "type": "mesh3d"
           }
          ],
          "parcoords": [
           {
            "line": {
             "colorbar": {
              "outlinewidth": 0,
              "ticks": ""
             }
            },
            "type": "parcoords"
           }
          ],
          "pie": [
           {
            "automargin": true,
            "type": "pie"
           }
          ],
          "scatter3d": [
           {
            "line": {
             "colorbar": {
              "outlinewidth": 0,
              "ticks": ""
             }
            },
            "marker": {
             "colorbar": {
              "outlinewidth": 0,
              "ticks": ""
             }
            },
            "type": "scatter3d"
           }
          ],
          "scattercarpet": [
           {
            "marker": {
             "colorbar": {
              "outlinewidth": 0,
              "ticks": ""
             }
            },
            "type": "scattercarpet"
           }
          ],
          "scattergeo": [
           {
            "marker": {
             "colorbar": {
              "outlinewidth": 0,
              "ticks": ""
             }
            },
            "type": "scattergeo"
           }
          ],
          "scattergl": [
           {
            "marker": {
             "colorbar": {
              "outlinewidth": 0,
              "ticks": ""
             }
            },
            "type": "scattergl"
           }
          ],
          "scattermapbox": [
           {
            "marker": {
             "colorbar": {
              "outlinewidth": 0,
              "ticks": ""
             }
            },
            "type": "scattermapbox"
           }
          ],
          "scatterpolargl": [
           {
            "marker": {
             "colorbar": {
              "outlinewidth": 0,
              "ticks": ""
             }
            },
            "type": "scatterpolargl"
           }
          ],
          "scatterpolar": [
           {
            "marker": {
             "colorbar": {
              "outlinewidth": 0,
              "ticks": ""
             }
            },
            "type": "scatterpolar"
           }
          ],
          "scatter": [
           {
            "marker": {
             "colorbar": {
              "outlinewidth": 0,
              "ticks": ""
             }
            },
            "type": "scatter"
           }
          ],
          "scatterternary": [
           {
            "marker": {
             "colorbar": {
              "outlinewidth": 0,
              "ticks": ""
             }
            },
            "type": "scatterternary"
           }
          ],
          "surface": [
           {
            "colorbar": {
             "outlinewidth": 0,
             "ticks": ""
            },
            "colorscale": [
             [
              0.0,
              "#0d0887"
             ],
             [
              0.1111111111111111,
              "#46039f"
             ],
             [
              0.2222222222222222,
              "#7201a8"
             ],
             [
              0.3333333333333333,
              "#9c179e"
             ],
             [
              0.4444444444444444,
              "#bd3786"
             ],
             [
              0.5555555555555556,
              "#d8576b"
             ],
             [
              0.6666666666666666,
              "#ed7953"
             ],
             [
              0.7777777777777778,
              "#fb9f3a"
             ],
             [
              0.8888888888888888,
              "#fdca26"
             ],
             [
              1.0,
              "#f0f921"
             ]
            ],
            "type": "surface"
           }
          ],
          "table": [
           {
            "cells": {
             "fill": {
              "color": "#EBF0F8"
             },
             "line": {
              "color": "white"
             }
            },
            "header": {
             "fill": {
              "color": "#C8D4E3"
             },
             "line": {
              "color": "white"
             }
            },
            "type": "table"
           }
          ]
         },
         "layout": {
          "annotationdefaults": {
           "arrowcolor": "#2a3f5f",
           "arrowhead": 0,
           "arrowwidth": 1
          },
          "autotypenumbers": "strict",
          "coloraxis": {
           "colorbar": {
            "outlinewidth": 0,
            "ticks": ""
           }
          },
          "colorscale": {
           "diverging": [
            [
             0,
             "#8e0152"
            ],
            [
             0.1,
             "#c51b7d"
            ],
            [
             0.2,
             "#de77ae"
            ],
            [
             0.3,
             "#f1b6da"
            ],
            [
             0.4,
             "#fde0ef"
            ],
            [
             0.5,
             "#f7f7f7"
            ],
            [
             0.6,
             "#e6f5d0"
            ],
            [
             0.7,
             "#b8e186"
            ],
            [
             0.8,
             "#7fbc41"
            ],
            [
             0.9,
             "#4d9221"
            ],
            [
             1,
             "#276419"
            ]
           ],
           "sequential": [
            [
             0.0,
             "#0d0887"
            ],
            [
             0.1111111111111111,
             "#46039f"
            ],
            [
             0.2222222222222222,
             "#7201a8"
            ],
            [
             0.3333333333333333,
             "#9c179e"
            ],
            [
             0.4444444444444444,
             "#bd3786"
            ],
            [
             0.5555555555555556,
             "#d8576b"
            ],
            [
             0.6666666666666666,
             "#ed7953"
            ],
            [
             0.7777777777777778,
             "#fb9f3a"
            ],
            [
             0.8888888888888888,
             "#fdca26"
            ],
            [
             1.0,
             "#f0f921"
            ]
           ],
           "sequentialminus": [
            [
             0.0,
             "#0d0887"
            ],
            [
             0.1111111111111111,
             "#46039f"
            ],
            [
             0.2222222222222222,
             "#7201a8"
            ],
            [
             0.3333333333333333,
             "#9c179e"
            ],
            [
             0.4444444444444444,
             "#bd3786"
            ],
            [
             0.5555555555555556,
             "#d8576b"
            ],
            [
             0.6666666666666666,
             "#ed7953"
            ],
            [
             0.7777777777777778,
             "#fb9f3a"
            ],
            [
             0.8888888888888888,
             "#fdca26"
            ],
            [
             1.0,
             "#f0f921"
            ]
           ]
          },
          "colorway": [
           "#636efa",
           "#EF553B",
           "#00cc96",
           "#ab63fa",
           "#FFA15A",
           "#19d3f3",
           "#FF6692",
           "#B6E880",
           "#FF97FF",
           "#FECB52"
          ],
          "font": {
           "color": "#2a3f5f"
          },
          "geo": {
           "bgcolor": "white",
           "lakecolor": "white",
           "landcolor": "#E5ECF6",
           "showlakes": true,
           "showland": true,
           "subunitcolor": "white"
          },
          "hoverlabel": {
           "align": "left"
          },
          "hovermode": "closest",
          "mapbox": {
           "style": "light"
          },
          "paper_bgcolor": "white",
          "plot_bgcolor": "#E5ECF6",
          "polar": {
           "angularaxis": {
            "gridcolor": "white",
            "linecolor": "white",
            "ticks": ""
           },
           "bgcolor": "#E5ECF6",
           "radialaxis": {
            "gridcolor": "white",
            "linecolor": "white",
            "ticks": ""
           }
          },
          "scene": {
           "xaxis": {
            "backgroundcolor": "#E5ECF6",
            "gridcolor": "white",
            "gridwidth": 2,
            "linecolor": "white",
            "showbackground": true,
            "ticks": "",
            "zerolinecolor": "white"
           },
           "yaxis": {
            "backgroundcolor": "#E5ECF6",
            "gridcolor": "white",
            "gridwidth": 2,
            "linecolor": "white",
            "showbackground": true,
            "ticks": "",
            "zerolinecolor": "white"
           },
           "zaxis": {
            "backgroundcolor": "#E5ECF6",
            "gridcolor": "white",
            "gridwidth": 2,
            "linecolor": "white",
            "showbackground": true,
            "ticks": "",
            "zerolinecolor": "white"
           }
          },
          "shapedefaults": {
           "line": {
            "color": "#2a3f5f"
           }
          },
          "ternary": {
           "aaxis": {
            "gridcolor": "white",
            "linecolor": "white",
            "ticks": ""
           },
           "baxis": {
            "gridcolor": "white",
            "linecolor": "white",
            "ticks": ""
           },
           "bgcolor": "#E5ECF6",
           "caxis": {
            "gridcolor": "white",
            "linecolor": "white",
            "ticks": ""
           }
          },
          "title": {
           "x": 0.05
          },
          "xaxis": {
           "automargin": true,
           "gridcolor": "white",
           "linecolor": "white",
           "ticks": "",
           "title": {
            "standoff": 15
           },
           "zerolinecolor": "white",
           "zerolinewidth": 2
          },
          "yaxis": {
           "automargin": true,
           "gridcolor": "white",
           "linecolor": "white",
           "ticks": "",
           "title": {
            "standoff": 15
           },
           "zerolinecolor": "white",
           "zerolinewidth": 2
          }
         }
        },
        "title": {
         "font": {
          "color": "#D9D9D9"
         }
        },
        "xaxis": {
         "gridcolor": "#434343",
         "showgrid": true,
         "tickfont": {
          "color": "#C2C2C2"
         },
         "title": {
          "font": {
           "color": "#D9D9D9"
          },
          "text": ""
         },
         "zerolinecolor": "#666570"
        },
        "yaxis": {
         "gridcolor": "#434343",
         "showgrid": true,
         "tickfont": {
          "color": "#C2C2C2"
         },
         "title": {
          "font": {
           "color": "#D9D9D9"
          },
          "text": ""
         },
         "zerolinecolor": "#666570"
        }
       },
       "config": {
        "showLink": true,
        "linkText": "Export to plot.ly",
        "plotlyServerURL": "https://plot.ly"
       }
      },
      "text/html": "<div>                            <div id=\"82058e95-a588-47ef-beac-ecf03a0345e9\" class=\"plotly-graph-div\" style=\"height:525px; width:100%;\"></div>            <script type=\"text/javascript\">                require([\"plotly\"], function(Plotly) {                    window.PLOTLYENV=window.PLOTLYENV || {};\n                    window.PLOTLYENV.BASE_URL='https://plot.ly';                                    if (document.getElementById(\"82058e95-a588-47ef-beac-ecf03a0345e9\")) {                    Plotly.newPlot(                        \"82058e95-a588-47ef-beac-ecf03a0345e9\",                        [{\"marker\":{\"color\":\"rgba(255, 153, 51, 0.6)\",\"line\":{\"color\":\"rgba(255, 153, 51, 1.0)\",\"width\":1}},\"name\":\"accuracy\",\"orientation\":\"v\",\"text\":\"\",\"x\":[\"Raw\",\"Scaled\",\"Imputed\",\"Down-sampling (Imblearn)\",\"Up-sampling (Imblearn)\",\"Up-sampling (Resample)\",\"Down-sampling (Resample)\"],\"y\":[0.6875,0.7083333333333334,0.7083333333333334,0.676923076923077,0.7322834645669292,0.6927083333333334,0.6510416666666666],\"type\":\"bar\"},{\"marker\":{\"color\":\"rgba(55, 128, 191, 0.6)\",\"line\":{\"color\":\"rgba(55, 128, 191, 1.0)\",\"width\":1}},\"name\":\"precision\",\"orientation\":\"v\",\"text\":\"\",\"x\":[\"Raw\",\"Scaled\",\"Imputed\",\"Down-sampling (Imblearn)\",\"Up-sampling (Imblearn)\",\"Up-sampling (Resample)\",\"Down-sampling (Resample)\"],\"y\":[0.5362318840579711,0.5671641791044776,0.5671641791044776,0.6885245901639344,0.7185185185185186,0.55,0.4868421052631579],\"type\":\"bar\"},{\"marker\":{\"color\":\"rgba(50, 171, 96, 0.6)\",\"line\":{\"color\":\"rgba(50, 171, 96, 1.0)\",\"width\":1}},\"name\":\"recall\",\"orientation\":\"v\",\"text\":\"\",\"x\":[\"Raw\",\"Scaled\",\"Imputed\",\"Down-sampling (Imblearn)\",\"Up-sampling (Imblearn)\",\"Up-sampling (Resample)\",\"Down-sampling (Resample)\"],\"y\":[0.5692307692307692,0.5846153846153846,0.5846153846153846,0.6461538461538462,0.7637795275590551,0.5076923076923077,0.5692307692307692],\"type\":\"bar\"},{\"marker\":{\"color\":\"rgba(128, 0, 128, 0.6)\",\"line\":{\"color\":\"rgba(128, 0, 128, 1.0)\",\"width\":1}},\"name\":\"fi\",\"orientation\":\"v\",\"text\":\"\",\"x\":[\"Raw\",\"Scaled\",\"Imputed\",\"Down-sampling (Imblearn)\",\"Up-sampling (Imblearn)\",\"Up-sampling (Resample)\",\"Down-sampling (Resample)\"],\"y\":[0.5522388059701493,0.5757575757575757,0.5757575757575757,0.6666666666666666,0.7404580152671756,0.528,0.524822695035461],\"type\":\"bar\"},{\"marker\":{\"color\":\"rgba(219, 64, 82, 0.6)\",\"line\":{\"color\":\"rgba(219, 64, 82, 1.0)\",\"width\":1}},\"name\":\"auc\",\"orientation\":\"v\",\"text\":\"\",\"x\":[\"Raw\",\"Scaled\",\"Imputed\",\"Down-sampling (Imblearn)\",\"Up-sampling (Imblearn)\",\"Up-sampling (Resample)\",\"Down-sampling (Resample)\"],\"y\":[0.6586311326468807,0.6781344639612357,0.6781344639612357,0.6769230769230768,0.732283464566929,0.6475469412477286,0.6310720775287704],\"type\":\"bar\"}],                        {\"legend\":{\"bgcolor\":\"#151516\",\"font\":{\"color\":\"#D9D9D9\"}},\"paper_bgcolor\":\"#151516\",\"plot_bgcolor\":\"#151516\",\"template\":{\"data\":{\"barpolar\":[{\"marker\":{\"line\":{\"color\":\"#E5ECF6\",\"width\":0.5},\"pattern\":{\"fillmode\":\"overlay\",\"size\":10,\"solidity\":0.2}},\"type\":\"barpolar\"}],\"bar\":[{\"error_x\":{\"color\":\"#2a3f5f\"},\"error_y\":{\"color\":\"#2a3f5f\"},\"marker\":{\"line\":{\"color\":\"#E5ECF6\",\"width\":0.5},\"pattern\":{\"fillmode\":\"overlay\",\"size\":10,\"solidity\":0.2}},\"type\":\"bar\"}],\"carpet\":[{\"aaxis\":{\"endlinecolor\":\"#2a3f5f\",\"gridcolor\":\"white\",\"linecolor\":\"white\",\"minorgridcolor\":\"white\",\"startlinecolor\":\"#2a3f5f\"},\"baxis\":{\"endlinecolor\":\"#2a3f5f\",\"gridcolor\":\"white\",\"linecolor\":\"white\",\"minorgridcolor\":\"white\",\"startlinecolor\":\"#2a3f5f\"},\"type\":\"carpet\"}],\"choropleth\":[{\"colorbar\":{\"outlinewidth\":0,\"ticks\":\"\"},\"type\":\"choropleth\"}],\"contourcarpet\":[{\"colorbar\":{\"outlinewidth\":0,\"ticks\":\"\"},\"type\":\"contourcarpet\"}],\"contour\":[{\"colorbar\":{\"outlinewidth\":0,\"ticks\":\"\"},\"colorscale\":[[0.0,\"#0d0887\"],[0.1111111111111111,\"#46039f\"],[0.2222222222222222,\"#7201a8\"],[0.3333333333333333,\"#9c179e\"],[0.4444444444444444,\"#bd3786\"],[0.5555555555555556,\"#d8576b\"],[0.6666666666666666,\"#ed7953\"],[0.7777777777777778,\"#fb9f3a\"],[0.8888888888888888,\"#fdca26\"],[1.0,\"#f0f921\"]],\"type\":\"contour\"}],\"heatmapgl\":[{\"colorbar\":{\"outlinewidth\":0,\"ticks\":\"\"},\"colorscale\":[[0.0,\"#0d0887\"],[0.1111111111111111,\"#46039f\"],[0.2222222222222222,\"#7201a8\"],[0.3333333333333333,\"#9c179e\"],[0.4444444444444444,\"#bd3786\"],[0.5555555555555556,\"#d8576b\"],[0.6666666666666666,\"#ed7953\"],[0.7777777777777778,\"#fb9f3a\"],[0.8888888888888888,\"#fdca26\"],[1.0,\"#f0f921\"]],\"type\":\"heatmapgl\"}],\"heatmap\":[{\"colorbar\":{\"outlinewidth\":0,\"ticks\":\"\"},\"colorscale\":[[0.0,\"#0d0887\"],[0.1111111111111111,\"#46039f\"],[0.2222222222222222,\"#7201a8\"],[0.3333333333333333,\"#9c179e\"],[0.4444444444444444,\"#bd3786\"],[0.5555555555555556,\"#d8576b\"],[0.6666666666666666,\"#ed7953\"],[0.7777777777777778,\"#fb9f3a\"],[0.8888888888888888,\"#fdca26\"],[1.0,\"#f0f921\"]],\"type\":\"heatmap\"}],\"histogram2dcontour\":[{\"colorbar\":{\"outlinewidth\":0,\"ticks\":\"\"},\"colorscale\":[[0.0,\"#0d0887\"],[0.1111111111111111,\"#46039f\"],[0.2222222222222222,\"#7201a8\"],[0.3333333333333333,\"#9c179e\"],[0.4444444444444444,\"#bd3786\"],[0.5555555555555556,\"#d8576b\"],[0.6666666666666666,\"#ed7953\"],[0.7777777777777778,\"#fb9f3a\"],[0.8888888888888888,\"#fdca26\"],[1.0,\"#f0f921\"]],\"type\":\"histogram2dcontour\"}],\"histogram2d\":[{\"colorbar\":{\"outlinewidth\":0,\"ticks\":\"\"},\"colorscale\":[[0.0,\"#0d0887\"],[0.1111111111111111,\"#46039f\"],[0.2222222222222222,\"#7201a8\"],[0.3333333333333333,\"#9c179e\"],[0.4444444444444444,\"#bd3786\"],[0.5555555555555556,\"#d8576b\"],[0.6666666666666666,\"#ed7953\"],[0.7777777777777778,\"#fb9f3a\"],[0.8888888888888888,\"#fdca26\"],[1.0,\"#f0f921\"]],\"type\":\"histogram2d\"}],\"histogram\":[{\"marker\":{\"pattern\":{\"fillmode\":\"overlay\",\"size\":10,\"solidity\":0.2}},\"type\":\"histogram\"}],\"mesh3d\":[{\"colorbar\":{\"outlinewidth\":0,\"ticks\":\"\"},\"type\":\"mesh3d\"}],\"parcoords\":[{\"line\":{\"colorbar\":{\"outlinewidth\":0,\"ticks\":\"\"}},\"type\":\"parcoords\"}],\"pie\":[{\"automargin\":true,\"type\":\"pie\"}],\"scatter3d\":[{\"line\":{\"colorbar\":{\"outlinewidth\":0,\"ticks\":\"\"}},\"marker\":{\"colorbar\":{\"outlinewidth\":0,\"ticks\":\"\"}},\"type\":\"scatter3d\"}],\"scattercarpet\":[{\"marker\":{\"colorbar\":{\"outlinewidth\":0,\"ticks\":\"\"}},\"type\":\"scattercarpet\"}],\"scattergeo\":[{\"marker\":{\"colorbar\":{\"outlinewidth\":0,\"ticks\":\"\"}},\"type\":\"scattergeo\"}],\"scattergl\":[{\"marker\":{\"colorbar\":{\"outlinewidth\":0,\"ticks\":\"\"}},\"type\":\"scattergl\"}],\"scattermapbox\":[{\"marker\":{\"colorbar\":{\"outlinewidth\":0,\"ticks\":\"\"}},\"type\":\"scattermapbox\"}],\"scatterpolargl\":[{\"marker\":{\"colorbar\":{\"outlinewidth\":0,\"ticks\":\"\"}},\"type\":\"scatterpolargl\"}],\"scatterpolar\":[{\"marker\":{\"colorbar\":{\"outlinewidth\":0,\"ticks\":\"\"}},\"type\":\"scatterpolar\"}],\"scatter\":[{\"marker\":{\"colorbar\":{\"outlinewidth\":0,\"ticks\":\"\"}},\"type\":\"scatter\"}],\"scatterternary\":[{\"marker\":{\"colorbar\":{\"outlinewidth\":0,\"ticks\":\"\"}},\"type\":\"scatterternary\"}],\"surface\":[{\"colorbar\":{\"outlinewidth\":0,\"ticks\":\"\"},\"colorscale\":[[0.0,\"#0d0887\"],[0.1111111111111111,\"#46039f\"],[0.2222222222222222,\"#7201a8\"],[0.3333333333333333,\"#9c179e\"],[0.4444444444444444,\"#bd3786\"],[0.5555555555555556,\"#d8576b\"],[0.6666666666666666,\"#ed7953\"],[0.7777777777777778,\"#fb9f3a\"],[0.8888888888888888,\"#fdca26\"],[1.0,\"#f0f921\"]],\"type\":\"surface\"}],\"table\":[{\"cells\":{\"fill\":{\"color\":\"#EBF0F8\"},\"line\":{\"color\":\"white\"}},\"header\":{\"fill\":{\"color\":\"#C8D4E3\"},\"line\":{\"color\":\"white\"}},\"type\":\"table\"}]},\"layout\":{\"annotationdefaults\":{\"arrowcolor\":\"#2a3f5f\",\"arrowhead\":0,\"arrowwidth\":1},\"autotypenumbers\":\"strict\",\"coloraxis\":{\"colorbar\":{\"outlinewidth\":0,\"ticks\":\"\"}},\"colorscale\":{\"diverging\":[[0,\"#8e0152\"],[0.1,\"#c51b7d\"],[0.2,\"#de77ae\"],[0.3,\"#f1b6da\"],[0.4,\"#fde0ef\"],[0.5,\"#f7f7f7\"],[0.6,\"#e6f5d0\"],[0.7,\"#b8e186\"],[0.8,\"#7fbc41\"],[0.9,\"#4d9221\"],[1,\"#276419\"]],\"sequential\":[[0.0,\"#0d0887\"],[0.1111111111111111,\"#46039f\"],[0.2222222222222222,\"#7201a8\"],[0.3333333333333333,\"#9c179e\"],[0.4444444444444444,\"#bd3786\"],[0.5555555555555556,\"#d8576b\"],[0.6666666666666666,\"#ed7953\"],[0.7777777777777778,\"#fb9f3a\"],[0.8888888888888888,\"#fdca26\"],[1.0,\"#f0f921\"]],\"sequentialminus\":[[0.0,\"#0d0887\"],[0.1111111111111111,\"#46039f\"],[0.2222222222222222,\"#7201a8\"],[0.3333333333333333,\"#9c179e\"],[0.4444444444444444,\"#bd3786\"],[0.5555555555555556,\"#d8576b\"],[0.6666666666666666,\"#ed7953\"],[0.7777777777777778,\"#fb9f3a\"],[0.8888888888888888,\"#fdca26\"],[1.0,\"#f0f921\"]]},\"colorway\":[\"#636efa\",\"#EF553B\",\"#00cc96\",\"#ab63fa\",\"#FFA15A\",\"#19d3f3\",\"#FF6692\",\"#B6E880\",\"#FF97FF\",\"#FECB52\"],\"font\":{\"color\":\"#2a3f5f\"},\"geo\":{\"bgcolor\":\"white\",\"lakecolor\":\"white\",\"landcolor\":\"#E5ECF6\",\"showlakes\":true,\"showland\":true,\"subunitcolor\":\"white\"},\"hoverlabel\":{\"align\":\"left\"},\"hovermode\":\"closest\",\"mapbox\":{\"style\":\"light\"},\"paper_bgcolor\":\"white\",\"plot_bgcolor\":\"#E5ECF6\",\"polar\":{\"angularaxis\":{\"gridcolor\":\"white\",\"linecolor\":\"white\",\"ticks\":\"\"},\"bgcolor\":\"#E5ECF6\",\"radialaxis\":{\"gridcolor\":\"white\",\"linecolor\":\"white\",\"ticks\":\"\"}},\"scene\":{\"xaxis\":{\"backgroundcolor\":\"#E5ECF6\",\"gridcolor\":\"white\",\"gridwidth\":2,\"linecolor\":\"white\",\"showbackground\":true,\"ticks\":\"\",\"zerolinecolor\":\"white\"},\"yaxis\":{\"backgroundcolor\":\"#E5ECF6\",\"gridcolor\":\"white\",\"gridwidth\":2,\"linecolor\":\"white\",\"showbackground\":true,\"ticks\":\"\",\"zerolinecolor\":\"white\"},\"zaxis\":{\"backgroundcolor\":\"#E5ECF6\",\"gridcolor\":\"white\",\"gridwidth\":2,\"linecolor\":\"white\",\"showbackground\":true,\"ticks\":\"\",\"zerolinecolor\":\"white\"}},\"shapedefaults\":{\"line\":{\"color\":\"#2a3f5f\"}},\"ternary\":{\"aaxis\":{\"gridcolor\":\"white\",\"linecolor\":\"white\",\"ticks\":\"\"},\"baxis\":{\"gridcolor\":\"white\",\"linecolor\":\"white\",\"ticks\":\"\"},\"bgcolor\":\"#E5ECF6\",\"caxis\":{\"gridcolor\":\"white\",\"linecolor\":\"white\",\"ticks\":\"\"}},\"title\":{\"x\":0.05},\"xaxis\":{\"automargin\":true,\"gridcolor\":\"white\",\"linecolor\":\"white\",\"ticks\":\"\",\"title\":{\"standoff\":15},\"zerolinecolor\":\"white\",\"zerolinewidth\":2},\"yaxis\":{\"automargin\":true,\"gridcolor\":\"white\",\"linecolor\":\"white\",\"ticks\":\"\",\"title\":{\"standoff\":15},\"zerolinecolor\":\"white\",\"zerolinewidth\":2}}},\"title\":{\"font\":{\"color\":\"#D9D9D9\"}},\"xaxis\":{\"gridcolor\":\"#434343\",\"showgrid\":true,\"tickfont\":{\"color\":\"#C2C2C2\"},\"title\":{\"font\":{\"color\":\"#D9D9D9\"},\"text\":\"\"},\"zerolinecolor\":\"#666570\"},\"yaxis\":{\"gridcolor\":\"#434343\",\"showgrid\":true,\"tickfont\":{\"color\":\"#C2C2C2\"},\"title\":{\"font\":{\"color\":\"#D9D9D9\"},\"text\":\"\"},\"zerolinecolor\":\"#666570\"}},                        {\"showLink\": true, \"linkText\": \"Export to plot.ly\", \"plotlyServerURL\": \"https://plot.ly\", \"responsive\": true}                    ).then(function(){\n                            \nvar gd = document.getElementById('82058e95-a588-47ef-beac-ecf03a0345e9');\nvar x = new MutationObserver(function (mutations, observer) {{\n        var display = window.getComputedStyle(gd).display;\n        if (!display || display === 'none') {{\n            console.log([gd, 'removed!']);\n            Plotly.purge(gd);\n            observer.disconnect();\n        }}\n}});\n\n// Listen for the removal of the full notebook cells\nvar notebookContainer = gd.closest('#notebook-container');\nif (notebookContainer) {{\n    x.observe(notebookContainer, {childList: true});\n}}\n\n// Listen for the clearing of the current output cell\nvar outputEl = gd.closest('.output');\nif (outputEl) {{\n    x.observe(outputEl, {childList: true});\n}}\n\n                        })                };                });            </script>        </div>"
     },
     "metadata": {},
     "output_type": "display_data"
    }
   ],
   "source": [
    "compare_df.iplot(kind='bar', width=0.9)"
   ]
  },
  {
   "cell_type": "markdown",
   "id": "3a6d719c",
   "metadata": {},
   "source": [
    "### 10. GridSearchCV "
   ]
  },
  {
   "cell_type": "code",
   "execution_count": 39,
   "id": "8e458e86",
   "metadata": {},
   "outputs": [],
   "source": [
    "from sklearn.model_selection import GridSearchCV\n",
    "from sklearn.pipeline import Pipeline"
   ]
  },
  {
   "cell_type": "code",
   "execution_count": 40,
   "id": "7e3aedb8",
   "metadata": {},
   "outputs": [],
   "source": [
    "# Select parameters to check\n",
    "grid_params = {\n",
    "    'n_neighbors': [3,5,11, 19],\n",
    "    'weights' : ['uniform','distance'],\n",
    "    'metric' : ['euclidian','manhattan']\n",
    "}"
   ]
  },
  {
   "cell_type": "code",
   "execution_count": null,
   "id": "25ca9ac6",
   "metadata": {
    "pycharm": {
     "is_executing": true
    }
   },
   "outputs": [
    {
     "name": "stdout",
     "output_type": "stream",
     "text": [
      "Fitting 3 folds for each of 16 candidates, totalling 48 fits\n"
     ]
    }
   ],
   "source": [
    "# Fit algorithm for each parameter selected\n",
    "gs = GridSearchCV(\n",
    "    KNeighborsClassifier(),\n",
    "    grid_params,\n",
    "    verbose = 1,\n",
    "    cv = 3,\n",
    "    n_jobs = -1\n",
    ")\n",
    "gs_results = gs.fit(features_train, labels_train)"
   ]
  },
  {
   "cell_type": "code",
   "execution_count": null,
   "id": "4013c705",
   "metadata": {
    "pycharm": {
     "is_executing": true
    }
   },
   "outputs": [],
   "source": [
    "# Find best fit\n",
    "print(f'Best score: {gs_results.best_score_}')\n",
    "print(f'Best estimator: {gs_results.best_estimator_}')\n",
    "print(f'Best parameters: {gs_results.best_params_}')"
   ]
  },
  {
   "cell_type": "markdown",
   "id": "2020c48c",
   "metadata": {},
   "source": [
    "### 11. Pipeline"
   ]
  },
  {
   "cell_type": "code",
   "execution_count": null,
   "id": "8a34a793",
   "metadata": {
    "pycharm": {
     "is_executing": true
    }
   },
   "outputs": [],
   "source": [
    "# from sklearn.feature_selection import SelectKBest, f_regression\n",
    "# from sklearn.linear_model import Ridge, Lasso\n",
    "from imblearn.over_sampling import RandomOverSampler, SMOTENC\n",
    "from imblearn.under_sampling import RandomUnderSampler,TomekLinks\n",
    "from sklearn.model_selection import StratifiedKFold\n",
    "from sklearn.preprocessing import MinMaxScaler"
   ]
  },
  {
   "cell_type": "code",
   "execution_count": null,
   "id": "9271fb3f",
   "metadata": {
    "pycharm": {
     "is_executing": true
    }
   },
   "outputs": [],
   "source": [
    "# Setting up a pipeline\n",
    "pipe = Pipeline([\n",
    "    ('scaler', None),\n",
    "    ('imputer', SimpleImputer(missing_values=0)),\n",
    "    ('upsampler', None),\n",
    "    ('downsampler', None),\n",
    "    ('clf', KNeighborsClassifier())\n",
    "])\n"
   ]
  },
  {
   "cell_type": "code",
   "execution_count": null,
   "id": "f4fa44f5",
   "metadata": {
    "pycharm": {
     "is_executing": true
    }
   },
   "outputs": [],
   "source": [
    "# Parameter grid to search over using grid search\n",
    "params={\n",
    "    'imputer__strategy': ['mean', 'median'],\n",
    "    'upsampler': ['passthrough', \n",
    "                  RandomOverSampler(random_state=42), \n",
    "                  SMOTENC(categorical_features=[0], random_state=42, k_neighbors=0)\n",
    "                 ],\n",
    "    'downsampler':['passthrough', \n",
    "                   RandomUnderSampler(random_state=42),\n",
    "                   TomekLinks()\n",
    "                  ],\n",
    "    'scaler':[StandardScaler(), MinMaxScaler()],\n",
    "    'clf__n_neighbors':[3,5,7,9,11,13],\n",
    "    'clf__weights':['uniform', 'distance'],\n",
    "    'clf__metric': ['minkowski', 'manhattan', 'euclidian']\n",
    "}\n",
    "\n",
    "# Cross validation\n",
    "skf = StratifiedKFold(n_splits=5,random_state=42,shuffle=True)\n",
    "\n",
    "# Set up the grid search\n",
    "gs = GridSearchCV(pipe,params,n_jobs=-1,cv=5)\n",
    "\n",
    "# Fit gs to training data\n",
    "gs_results = gs.fit(features_train, labels_train)\n",
    "\n",
    "# Find best fit\n",
    "print(f'Best score: {gs_results.best_score_}')\n",
    "print(f'Best parameters: \\n{gs_results.best_params_}')"
   ]
  },
  {
   "cell_type": "code",
   "execution_count": null,
   "id": "5fc9ff37",
   "metadata": {
    "pycharm": {
     "name": "#%%\n",
     "is_executing": true
    }
   },
   "outputs": [],
   "source": [
    "# building a dataframe from cross validation data\n",
    "df_cv_scores=pd.DataFrame(gs.cv_results_).sort_values(by='rank_test_score')\n",
    "\n",
    "# Get score\n",
    "print(f'\\nScore: {gs.score(features_test, labels_test)}')\n",
    "\n",
    "# Predict results\n",
    "labels_preds = gs.predict(features_test)\n",
    "par = parameter_check(labels_preds, labels_test)"
   ]
  }
 ],
 "metadata": {
  "kernelspec": {
   "name": "pycharm-c740bed0",
   "language": "python",
   "display_name": "PyCharm (imlt-assignments)"
  },
  "language_info": {
   "codemirror_mode": {
    "name": "ipython",
    "version": 3
   },
   "file_extension": ".py",
   "mimetype": "text/x-python",
   "name": "python",
   "nbconvert_exporter": "python",
   "pygments_lexer": "ipython3",
   "version": "3.8.8"
  }
 },
 "nbformat": 4,
 "nbformat_minor": 5
}