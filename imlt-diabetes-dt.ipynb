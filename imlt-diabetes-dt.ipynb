{
 "cells": [
  {
   "cell_type": "markdown",
   "source": [
    "### Imports"
   ],
   "metadata": {
    "collapsed": false
   }
  },
  {
   "cell_type": "code",
   "execution_count": 1,
   "outputs": [
    {
     "data": {
      "text/html": "        <script type=\"text/javascript\">\n        window.PlotlyConfig = {MathJaxConfig: 'local'};\n        if (window.MathJax && window.MathJax.Hub && window.MathJax.Hub.Config) {window.MathJax.Hub.Config({SVG: {font: \"STIX-Web\"}});}\n        if (typeof require !== 'undefined') {\n        require.undef(\"plotly\");\n        requirejs.config({\n            paths: {\n                'plotly': ['https://cdn.plot.ly/plotly-2.12.1.min']\n            }\n        });\n        require(['plotly'], function(Plotly) {\n            window._Plotly = Plotly;\n        });\n        }\n        </script>\n        "
     },
     "metadata": {},
     "output_type": "display_data"
    },
    {
     "data": {
      "text/html": "        <script type=\"text/javascript\">\n        window.PlotlyConfig = {MathJaxConfig: 'local'};\n        if (window.MathJax && window.MathJax.Hub && window.MathJax.Hub.Config) {window.MathJax.Hub.Config({SVG: {font: \"STIX-Web\"}});}\n        if (typeof require !== 'undefined') {\n        require.undef(\"plotly\");\n        requirejs.config({\n            paths: {\n                'plotly': ['https://cdn.plot.ly/plotly-2.12.1.min']\n            }\n        });\n        require(['plotly'], function(Plotly) {\n            window._Plotly = Plotly;\n        });\n        }\n        </script>\n        "
     },
     "metadata": {},
     "output_type": "display_data"
    }
   ],
   "source": [
    "import pandas as pd\n",
    "import numpy as np\n",
    "import os\n",
    "import seaborn as sns\n",
    "import matplotlib.pyplot as plt\n",
    "import cufflinks as cf\n",
    "from IPython.display import display,HTML\n",
    "\n",
    "# Int cufflinks\n",
    "#making all charts public and setting a global theme\n",
    "cf.set_config_file(theme='solar',offline=True)\n",
    "\n",
    "# Ignore warnings\n",
    "import warnings\n",
    "warnings.filterwarnings(\"ignore\")\n",
    "\n",
    "# Set matplotlib in Darkmode\n",
    "plt.style.use('dark_background')"
   ],
   "metadata": {
    "collapsed": false,
    "pycharm": {
     "name": "#%%\n"
    }
   }
  },
  {
   "cell_type": "markdown",
   "source": [
    "### 01. Load the Dataset"
   ],
   "metadata": {
    "collapsed": false
   }
  },
  {
   "cell_type": "code",
   "execution_count": 2,
   "outputs": [],
   "source": [
    "def load_dataset(path:str) -> pd:\n",
    "    return pd.read_csv(path)"
   ],
   "metadata": {
    "collapsed": false,
    "pycharm": {
     "name": "#%%\n"
    }
   }
  },
  {
   "cell_type": "code",
   "source": [
    "# Loading data using pandas\n",
    "path = './diabetes.csv'\n",
    "dataset = load_dataset(path)\n",
    "columns = list(dataset.columns)"
   ],
   "metadata": {
    "collapsed": false,
    "pycharm": {
     "name": "#%%\n"
    }
   },
   "execution_count": 3,
   "outputs": []
  },
  {
   "cell_type": "markdown",
   "source": [
    "### 02. Explorethe Dataset"
   ],
   "metadata": {
    "collapsed": false,
    "pycharm": {
     "name": "#%% md\n"
    }
   }
  },
  {
   "cell_type": "code",
   "execution_count": 4,
   "outputs": [
    {
     "name": "stdout",
     "output_type": "stream",
     "text": [
      "<class 'pandas.core.frame.DataFrame'>\n",
      "RangeIndex: 768 entries, 0 to 767\n",
      "Data columns (total 9 columns):\n",
      " #   Column                    Non-Null Count  Dtype  \n",
      "---  ------                    --------------  -----  \n",
      " 0   Pregnancies               768 non-null    int64  \n",
      " 1   Glucose                   768 non-null    int64  \n",
      " 2   BloodPressure             768 non-null    int64  \n",
      " 3   SkinThickness             768 non-null    int64  \n",
      " 4   Insulin                   768 non-null    int64  \n",
      " 5   BMI                       768 non-null    float64\n",
      " 6   DiabetesPedigreeFunction  768 non-null    float64\n",
      " 7   Age                       768 non-null    int64  \n",
      " 8   Outcome                   768 non-null    int64  \n",
      "dtypes: float64(2), int64(7)\n",
      "memory usage: 54.1 KB\n"
     ]
    }
   ],
   "source": [
    "# Explore the dataset\n",
    "dataset.info()"
   ],
   "metadata": {
    "collapsed": false,
    "pycharm": {
     "name": "#%%\n"
    }
   }
  },
  {
   "cell_type": "code",
   "execution_count": 5,
   "outputs": [
    {
     "data": {
      "text/plain": "Pregnancies                 False\nGlucose                     False\nBloodPressure               False\nSkinThickness               False\nInsulin                     False\nBMI                         False\nDiabetesPedigreeFunction    False\nAge                         False\nOutcome                     False\ndtype: bool"
     },
     "execution_count": 5,
     "metadata": {},
     "output_type": "execute_result"
    }
   ],
   "source": [
    "# Shows if there are any entries that are NA or NAN\n",
    "dataset.isna().any()"
   ],
   "metadata": {
    "collapsed": false,
    "pycharm": {
     "name": "#%%\n"
    }
   }
  },
  {
   "cell_type": "code",
   "execution_count": 6,
   "outputs": [],
   "source": [
    "#Plotting data\n",
    "def plot_data(dataset):\n",
    "    \"\"\"Plot out all the data from the dataset in different histograms\"\"\"\n",
    "    dataset.hist(bins=50, figsize = (20,15))\n",
    "    plt.show()\n",
    "    return\n"
   ],
   "metadata": {
    "collapsed": false,
    "pycharm": {
     "name": "#%%\n"
    }
   }
  },
  {
   "cell_type": "code",
   "execution_count": 7,
   "outputs": [
    {
     "data": {
      "text/plain": "<Figure size 1440x1080 with 9 Axes>",
      "image/png": "[encoded data removed]"
     },
     "metadata": {
      "needs_background": "dark"
     },
     "output_type": "display_data"
    }
   ],
   "source": [
    "plot_data(dataset)"
   ],
   "metadata": {
    "collapsed": false,
    "pycharm": {
     "name": "#%%\n"
    }
   }
  },
  {
   "cell_type": "markdown",
   "source": [
    "### 03. Correlation Matrix"
   ],
   "metadata": {
    "collapsed": false
   }
  },
  {
   "cell_type": "code",
   "execution_count": 8,
   "outputs": [
    {
     "data": {
      "text/plain": "<AxesSubplot:>"
     },
     "execution_count": 8,
     "metadata": {},
     "output_type": "execute_result"
    },
    {
     "data": {
      "text/plain": "<Figure size 432x288 with 2 Axes>",
      "image/png": "[encoded data removed]"
     },
     "metadata": {
      "needs_background": "dark"
     },
     "output_type": "display_data"
    }
   ],
   "source": [
    "# Correlation data\n",
    "corr = dataset.corr()\n",
    "\n",
    "# Correlation matrix with seaborn (correlation val are -1 to 1, thats why vmin vmax)\n",
    "sns.heatmap(corr, vmin = -1, vmax = +1, annot = True, cmap = 'coolwarm')"
   ],
   "metadata": {
    "collapsed": false,
    "pycharm": {
     "name": "#%%\n"
    }
   }
  },
  {
   "cell_type": "markdown",
   "source": [
    "No meaningful correlation found. All features are informative."
   ],
   "metadata": {
    "collapsed": false
   }
  },
  {
   "cell_type": "markdown",
   "source": [
    "### Functions for Checking Parameters"
   ],
   "metadata": {
    "collapsed": false
   }
  },
  {
   "cell_type": "code",
   "execution_count": 9,
   "outputs": [],
   "source": [
    "from sklearn.metrics import roc_auc_score, roc_curve\n",
    "\n",
    "# Check AOC ARC curve\n",
    "def aoc_arc_curve(pred, labels_test):\n",
    "    \"\"\"Plots the AOC ARC curve and score\"\"\"\n",
    "    auc = roc_auc_score(labels_test, pred, multi_class='ovr')\n",
    "    print('AUROC score: {:.2f}'.format(auc))\n",
    "\n",
    "    false_positive_rate, true_positive_rate, thresolds = roc_curve(labels_test, pred)\n",
    "\n",
    "    plt.figure(figsize=(5, 4), dpi=100)\n",
    "    plt.axis('scaled')\n",
    "    plt.xlim([0, 1])\n",
    "    plt.ylim([0, 1])\n",
    "    plt.title(\"AUC & ROC Curve\")\n",
    "    plt.plot(false_positive_rate, true_positive_rate, 'y')\n",
    "\n",
    "    plt.plot([0,1],[0,1], linestyle='dotted')\n",
    "\n",
    "    plt.fill_between(false_positive_rate, true_positive_rate, facecolor='lightyellow', alpha=0.7)\n",
    "    plt.text(0.95, 0.05, 'AUC = {:.2f}'.format(auc), ha='right', fontsize=12, weight='bold')\n",
    "    plt.xlabel(\"False Positive Rate\")\n",
    "    plt.ylabel(\"True Positive Rate\")\n",
    "    plt.show()\n",
    "\n",
    "    return auc"
   ],
   "metadata": {
    "collapsed": false,
    "pycharm": {
     "name": "#%%\n"
    }
   }
  },
  {
   "cell_type": "code",
   "execution_count": 10,
   "outputs": [],
   "source": [
    "from sklearn.metrics import accuracy_score\n",
    "from sklearn.metrics import precision_score\n",
    "from sklearn.metrics import recall_score\n",
    "from sklearn.metrics import f1_score\n",
    "\n",
    "def parameter_check(pred, labels_test):\n",
    "    \"\"\"Determines accuracy, precision, recall, f1 and aoc arc curve\"\"\"\n",
    "    # Check accuracy\n",
    "    accuracy = accuracy_score(labels_test , pred)\n",
    "\n",
    "    # Check precision\n",
    "    precision = precision_score(labels_test , pred, average='weighted')\n",
    "\n",
    "    # Check recall\n",
    "    recall = recall_score(labels_test , pred, average='weighted')\n",
    "\n",
    "    # Check F1 score\n",
    "    F1 = f1_score( labels_test , pred, average='weighted')\n",
    "\n",
    "    print('Accuracy: {}'.format(accuracy))\n",
    "    print('Precision: {:.2f}'.format(precision))\n",
    "    print('Recall: {:.2f}'.format(recall))\n",
    "    print('F1 score: {:.2f}'.format(F1))\n",
    "\n",
    "    #auc = 'NA'\n",
    "    auc = aoc_arc_curve(pred, labels_test)\n",
    "\n",
    "    return { 'accuracy': accuracy, 'precision':precision, 'recall':recall, 'fi':F1, 'auc': auc}\n"
   ],
   "metadata": {
    "collapsed": false,
    "pycharm": {
     "name": "#%%\n"
    }
   }
  },
  {
   "cell_type": "markdown",
   "source": [
    "### 04 Data Pre-processing"
   ],
   "metadata": {
    "collapsed": false
   }
  },
  {
   "cell_type": "code",
   "execution_count": 11,
   "outputs": [],
   "source": [
    "from sklearn.model_selection import train_test_split\n",
    "\n",
    "# Create features and labels\n",
    "features = dataset.drop(['Outcome'], axis=1)\n",
    "labels = dataset['Outcome']\n",
    "\n",
    "# Create training (75%) and test (25%) sets\n",
    "features_train, features_test , labels_train , labels_test = train_test_split(features, labels, test_size =0.25)\n"
   ],
   "metadata": {
    "collapsed": false,
    "pycharm": {
     "name": "#%%\n"
    }
   }
  },
  {
   "cell_type": "markdown",
   "source": [
    "### 04.1 Scaling"
   ],
   "metadata": {
    "collapsed": false
   }
  },
  {
   "cell_type": "code",
   "execution_count": 12,
   "outputs": [],
   "source": [
    "from sklearn.preprocessing import StandardScaler,MinMaxScaler\n",
    "\n",
    "scaler = StandardScaler()\n",
    "features_train_scaled = scaler.fit_transform(features_train)\n",
    "features_test_scaled = scaler.transform(features_test)"
   ],
   "metadata": {
    "collapsed": false,
    "pycharm": {
     "name": "#%%\n"
    }
   }
  },
  {
   "cell_type": "markdown",
   "source": [
    "### 04.2 Imputation"
   ],
   "metadata": {
    "collapsed": false
   }
  },
  {
   "cell_type": "code",
   "execution_count": 13,
   "outputs": [],
   "source": [
    "from sklearn.impute import SimpleImputer\n",
    "\n",
    "imputer = SimpleImputer(missing_values=np.nan, strategy='mean')\n",
    "\n",
    "imputer = imputer.fit(features_train_scaled)\n",
    "features_train_imputated = imputer.transform(features_train_scaled)\n",
    "\n",
    "imputer = imputer.fit(features_test_scaled)\n",
    "features_test_imputated = imputer.transform(features_test_scaled)\n"
   ],
   "metadata": {
    "collapsed": false,
    "pycharm": {
     "name": "#%%\n"
    }
   }
  },
  {
   "cell_type": "markdown",
   "source": [
    "### 04.3 Imablanced Data"
   ],
   "metadata": {
    "collapsed": false
   }
  },
  {
   "cell_type": "markdown",
   "source": [
    "#### Up-sampling  _(with `imblearn`)_"
   ],
   "metadata": {
    "collapsed": false
   }
  },
  {
   "cell_type": "code",
   "execution_count": 14,
   "outputs": [],
   "source": [
    "from collections import Counter\n",
    "from imblearn.over_sampling import SMOTE\n",
    "\n",
    "# Re-sizing the data\n",
    "features_train_balanced, labels_train_balanced = SMOTE().fit_resample(features_train_imputated, labels_train)\n",
    "features_test_balanced, labels_test_balanced = SMOTE().fit_resample(features_test_imputated, labels_test)\n"
   ],
   "metadata": {
    "collapsed": false,
    "pycharm": {
     "name": "#%%\n"
    }
   }
  },
  {
   "cell_type": "markdown",
   "source": [
    "#### Down-sampling  _(with `imblearn`)_"
   ],
   "metadata": {
    "collapsed": false
   }
  },
  {
   "cell_type": "code",
   "execution_count": 15,
   "outputs": [],
   "source": [
    "from imblearn.under_sampling import RandomUnderSampler\n",
    "\n",
    "# Re-sizing the data\n",
    "rus = RandomUnderSampler(random_state=0)\n",
    "features_train_balanced2, labels_train_balanced2 = rus.fit_resample(features_train_imputated, labels_train)\n",
    "features_test_balanced2, labels_test_balanced2 = rus.fit_resample(features_test_imputated, labels_test)"
   ],
   "metadata": {
    "collapsed": false,
    "pycharm": {
     "name": "#%%\n"
    }
   }
  },
  {
   "cell_type": "markdown",
   "source": [
    "## Run Algorithm"
   ],
   "metadata": {
    "collapsed": false
   }
  },
  {
   "cell_type": "code",
   "execution_count": 16,
   "outputs": [],
   "source": [
    "def run_classifier(classifier, features_train, labels_train, features_test, labels_test) -> float:\n",
    "    # Fit data for training into classifier\n",
    "    classifier.fit(features_train , labels_train)\n",
    "    # Predicting with classifier\n",
    "    acc1 = accuracy_score(y_true=labels_train, y_pred=classifier.predict(features_train))\n",
    "    acc2 = accuracy_score(y_true=labels_test, y_pred=classifier.predict(features_test))\n",
    "    print(f'Accuracy Score on train data: {acc1}')\n",
    "    print(f'Accuracy Score on train data: {acc2}')\n",
    "    return"
   ],
   "metadata": {
    "collapsed": false,
    "pycharm": {
     "name": "#%%\n"
    }
   }
  },
  {
   "cell_type": "code",
   "execution_count": 17,
   "outputs": [
    {
     "name": "stdout",
     "output_type": "stream",
     "text": [
      "Accuracy Score on train data: 1.0\n",
      "Accuracy Score on train data: 0.6666666666666666\n"
     ]
    }
   ],
   "source": [
    "from sklearn.tree import DecisionTreeClassifier\n",
    "\n",
    "classifier = DecisionTreeClassifier()\n",
    "run_classifier(classifier,features_train, labels_train, features_test, labels_test)"
   ],
   "metadata": {
    "collapsed": false,
    "pycharm": {
     "name": "#%%\n"
    }
   }
  },
  {
   "cell_type": "code",
   "execution_count": 18,
   "outputs": [
    {
     "name": "stdout",
     "output_type": "stream",
     "text": [
      "Accuracy Score on train data: 1.0\n",
      "Accuracy Score on train data: 0.671875\n"
     ]
    }
   ],
   "source": [
    "# Changing the Criterion to entropy\n",
    "classifier_entropy = DecisionTreeClassifier(criterion='entropy')\n",
    "run_classifier(classifier_entropy,features_train, labels_train, features_test, labels_test)"
   ],
   "metadata": {
    "collapsed": false,
    "pycharm": {
     "name": "#%%\n"
    }
   }
  },
  {
   "cell_type": "code",
   "execution_count": 19,
   "outputs": [
    {
     "name": "stdout",
     "output_type": "stream",
     "text": [
      "Accuracy Score on train data: 0.8142361111111112\n",
      "Accuracy Score on train data: 0.7239583333333334\n"
     ]
    }
   ],
   "source": [
    "# Tne the parameters of the decision tree to increase accuracy\n",
    "classifier_2 = DecisionTreeClassifier(criterion='entropy', min_samples_split=50)\n",
    "run_classifier(classifier_2,features_train, labels_train, features_test, labels_test)"
   ],
   "metadata": {
    "collapsed": false,
    "pycharm": {
     "name": "#%%\n"
    }
   }
  },
  {
   "cell_type": "markdown",
   "source": [
    "#### Visualize"
   ],
   "metadata": {
    "collapsed": false,
    "pycharm": {
     "name": "#%% md\n"
    }
   }
  },
  {
   "cell_type": "code",
   "source": [
    "\n",
    "from six import StringIO\n",
    "from sklearn.tree import export_graphviz\n",
    "from IPython.display import Image\n",
    "import pydotplus"
   ],
   "metadata": {
    "collapsed": false,
    "pycharm": {
     "name": "#%%\n"
    }
   },
   "execution_count": 22,
   "outputs": []
  },
  {
   "cell_type": "code",
   "execution_count": 32,
   "outputs": [
    {
     "ename": "InvocationException",
     "evalue": "GraphViz's executables not found",
     "output_type": "error",
     "traceback": [
      "\u001B[0;31m---------------------------------------------------------------------------\u001B[0m",
      "\u001B[0;31mInvocationException\u001B[0m                       Traceback (most recent call last)",
      "Input \u001B[0;32mIn [32]\u001B[0m, in \u001B[0;36m<cell line: 11>\u001B[0;34m()\u001B[0m\n\u001B[1;32m      2\u001B[0m export_graphviz(classifier,\n\u001B[1;32m      3\u001B[0m                 out_file\u001B[38;5;241m=\u001B[39mdot_data,\n\u001B[1;32m      4\u001B[0m                 filled\u001B[38;5;241m=\u001B[39m\u001B[38;5;28;01mTrue\u001B[39;00m,\n\u001B[0;32m   (...)\u001B[0m\n\u001B[1;32m      8\u001B[0m                 class_names\u001B[38;5;241m=\u001B[39m[\u001B[38;5;124m'\u001B[39m\u001B[38;5;124mOutcome\u001B[39m\u001B[38;5;124m'\u001B[39m,\u001B[38;5;124m'\u001B[39m\u001B[38;5;124mOutcome\u001B[39m\u001B[38;5;124m'\u001B[39m]\n\u001B[1;32m      9\u001B[0m                 )\n\u001B[1;32m     10\u001B[0m graph \u001B[38;5;241m=\u001B[39m pydotplus\u001B[38;5;241m.\u001B[39mgraph_from_dot_data(dot_data\u001B[38;5;241m.\u001B[39mgetvalue())\n\u001B[0;32m---> 11\u001B[0m Image(\u001B[43mgraph\u001B[49m\u001B[38;5;241;43m.\u001B[39;49m\u001B[43mcreate_png\u001B[49m\u001B[43m(\u001B[49m\u001B[43m)\u001B[49m)\n",
      "File \u001B[0;32m~/PycharmProjects/imlt-assignments/venv/lib/python3.9/site-packages/pydotplus/graphviz.py:1797\u001B[0m, in \u001B[0;36mDot.__init__.<locals>.<lambda>\u001B[0;34m(f, prog)\u001B[0m\n\u001B[1;32m   1792\u001B[0m \u001B[38;5;66;03m# Automatically creates all the methods enabling the creation\u001B[39;00m\n\u001B[1;32m   1793\u001B[0m \u001B[38;5;66;03m# of output in any of the supported formats.\u001B[39;00m\n\u001B[1;32m   1794\u001B[0m \u001B[38;5;28;01mfor\u001B[39;00m frmt \u001B[38;5;129;01min\u001B[39;00m \u001B[38;5;28mself\u001B[39m\u001B[38;5;241m.\u001B[39mformats:\n\u001B[1;32m   1795\u001B[0m     \u001B[38;5;28mself\u001B[39m\u001B[38;5;241m.\u001B[39m\u001B[38;5;21m__setattr__\u001B[39m(\n\u001B[1;32m   1796\u001B[0m         \u001B[38;5;124m'\u001B[39m\u001B[38;5;124mcreate_\u001B[39m\u001B[38;5;124m'\u001B[39m \u001B[38;5;241m+\u001B[39m frmt,\n\u001B[0;32m-> 1797\u001B[0m         \u001B[38;5;28;01mlambda\u001B[39;00m f\u001B[38;5;241m=\u001B[39mfrmt, prog\u001B[38;5;241m=\u001B[39m\u001B[38;5;28mself\u001B[39m\u001B[38;5;241m.\u001B[39mprog: \u001B[38;5;28;43mself\u001B[39;49m\u001B[38;5;241;43m.\u001B[39;49m\u001B[43mcreate\u001B[49m\u001B[43m(\u001B[49m\u001B[38;5;28;43mformat\u001B[39;49m\u001B[38;5;241;43m=\u001B[39;49m\u001B[43mf\u001B[49m\u001B[43m,\u001B[49m\u001B[43m \u001B[49m\u001B[43mprog\u001B[49m\u001B[38;5;241;43m=\u001B[39;49m\u001B[43mprog\u001B[49m\u001B[43m)\u001B[49m\n\u001B[1;32m   1798\u001B[0m     )\n\u001B[1;32m   1799\u001B[0m     f \u001B[38;5;241m=\u001B[39m \u001B[38;5;28mself\u001B[39m\u001B[38;5;241m.\u001B[39m\u001B[38;5;18m__dict__\u001B[39m[\u001B[38;5;124m'\u001B[39m\u001B[38;5;124mcreate_\u001B[39m\u001B[38;5;124m'\u001B[39m \u001B[38;5;241m+\u001B[39m frmt]\n\u001B[1;32m   1800\u001B[0m     f\u001B[38;5;241m.\u001B[39m\u001B[38;5;18m__doc__\u001B[39m \u001B[38;5;241m=\u001B[39m (\n\u001B[1;32m   1801\u001B[0m         \u001B[38;5;124;03m'''Refer to the docstring accompanying the'''\u001B[39;00m\n\u001B[1;32m   1802\u001B[0m         \u001B[38;5;124;03m''''create' method for more information.'''\u001B[39;00m\n\u001B[1;32m   1803\u001B[0m     )\n",
      "File \u001B[0;32m~/PycharmProjects/imlt-assignments/venv/lib/python3.9/site-packages/pydotplus/graphviz.py:1959\u001B[0m, in \u001B[0;36mDot.create\u001B[0;34m(self, prog, format)\u001B[0m\n\u001B[1;32m   1957\u001B[0m     \u001B[38;5;28mself\u001B[39m\u001B[38;5;241m.\u001B[39mprogs \u001B[38;5;241m=\u001B[39m find_graphviz()\n\u001B[1;32m   1958\u001B[0m     \u001B[38;5;28;01mif\u001B[39;00m \u001B[38;5;28mself\u001B[39m\u001B[38;5;241m.\u001B[39mprogs \u001B[38;5;129;01mis\u001B[39;00m \u001B[38;5;28;01mNone\u001B[39;00m:\n\u001B[0;32m-> 1959\u001B[0m         \u001B[38;5;28;01mraise\u001B[39;00m InvocationException(\n\u001B[1;32m   1960\u001B[0m             \u001B[38;5;124m'\u001B[39m\u001B[38;5;124mGraphViz\u001B[39m\u001B[38;5;130;01m\\'\u001B[39;00m\u001B[38;5;124ms executables not found\u001B[39m\u001B[38;5;124m'\u001B[39m)\n\u001B[1;32m   1962\u001B[0m \u001B[38;5;28;01mif\u001B[39;00m prog \u001B[38;5;129;01mnot\u001B[39;00m \u001B[38;5;129;01min\u001B[39;00m \u001B[38;5;28mself\u001B[39m\u001B[38;5;241m.\u001B[39mprogs:\n\u001B[1;32m   1963\u001B[0m     \u001B[38;5;28;01mraise\u001B[39;00m InvocationException(\n\u001B[1;32m   1964\u001B[0m         \u001B[38;5;124m'\u001B[39m\u001B[38;5;124mGraphViz\u001B[39m\u001B[38;5;130;01m\\'\u001B[39;00m\u001B[38;5;124ms executable \u001B[39m\u001B[38;5;124m\"\u001B[39m\u001B[38;5;132;01m%s\u001B[39;00m\u001B[38;5;124m\"\u001B[39m\u001B[38;5;124m not found\u001B[39m\u001B[38;5;124m'\u001B[39m \u001B[38;5;241m%\u001B[39m prog)\n",
      "\u001B[0;31mInvocationException\u001B[0m: GraphViz's executables not found"
     ]
    }
   ],
   "source": [
    "dot_data = StringIO()\n",
    "export_graphviz(classifier,\n",
    "                out_file=dot_data,\n",
    "                filled=True,\n",
    "                rounded=True,\n",
    "                special_characters=True,\n",
    "                feature_names=features.columns,\n",
    "                class_names=['Outcome','Outcome']\n",
    "                )\n",
    "graph = pydotplus.graph_from_dot_data(dot_data.getvalue())\n",
    "Image(graph.create_png())"
   ],
   "metadata": {
    "collapsed": false,
    "pycharm": {
     "name": "#%%\n"
    }
   }
  },
  {
   "cell_type": "code",
   "execution_count": 30,
   "outputs": [
    {
     "data": {
      "text/plain": "Index(['Pregnancies', 'Glucose', 'BloodPressure', 'SkinThickness', 'Insulin',\n       'BMI', 'DiabetesPedigreeFunction', 'Age'],\n      dtype='object')"
     },
     "execution_count": 30,
     "metadata": {},
     "output_type": "execute_result"
    }
   ],
   "source": [],
   "metadata": {
    "collapsed": false,
    "pycharm": {
     "name": "#%%\n"
    }
   }
  },
  {
   "cell_type": "code",
   "execution_count": null,
   "outputs": [],
   "source": [],
   "metadata": {
    "collapsed": false,
    "pycharm": {
     "name": "#%%\n"
    }
   }
  }
 ],
 "metadata": {
  "kernelspec": {
   "name": "pycharm-c740bed0",
   "language": "python",
   "display_name": "PyCharm (imlt-assignments)"
  },
  "language_info": {
   "codemirror_mode": {
    "name": "ipython",
    "version": 2
   },
   "file_extension": ".py",
   "mimetype": "text/x-python",
   "name": "python",
   "nbconvert_exporter": "python",
   "pygments_lexer": "ipython2",
   "version": "2.7.6"
  }
 },
 "nbformat": 4,
 "nbformat_minor": 0
}